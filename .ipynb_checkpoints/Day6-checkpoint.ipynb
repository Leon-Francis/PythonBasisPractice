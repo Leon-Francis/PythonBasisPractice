{
 "cells": [
  {
   "cell_type": "markdown",
   "metadata": {},
   "source": [
    "# Day6:函数与Lambda表达式"
   ]
  },
  {
   "cell_type": "markdown",
   "metadata": {},
   "source": [
    "## 定义函数\n",
    "\n",
    "Python使用以下语法定义一个函数：\n",
    "\n",
    "> 函数代码块以 def 关键词开头，后接函数标识符名称和圆括号 ()。\n",
    "> 任何传入参数和自变量必须放在圆括号中间，圆括号之间可以用于定义参数。\n",
    "> 函数的第一行语句可以选择性地使用文档字符串—用于存放函数说明。\n",
    "> 函数内容以冒号起始，并且缩进。\n",
    "> return 表达式 结束函数，选择性地返回一个值给调用方。不带表达式的return相当于返回 None"
   ]
  },
  {
   "cell_type": "code",
   "execution_count": 1,
   "metadata": {},
   "outputs": [
    {
     "name": "stdout",
     "output_type": "stream",
     "text": [
      "Hello World\n"
     ]
    }
   ],
   "source": [
    "def HelloWorld ():\n",
    "    print('Hello World')\n",
    "    \n",
    "HelloWorld()"
   ]
  },
  {
   "cell_type": "code",
   "execution_count": 2,
   "metadata": {},
   "outputs": [
    {
     "name": "stdout",
     "output_type": "stream",
     "text": [
      "Hello Python\n",
      "area is 30\n"
     ]
    }
   ],
   "source": [
    "#带上参数\n",
    "def Hello(name):\n",
    "    print('Hello ' + name)\n",
    "    \n",
    "Hello('Python')\n",
    "#参数传递也可以直接赋值传递\n",
    "def area(width, height):\n",
    "    return width * height\n",
    "print('area is' , area(width = 5, height = 6))"
   ]
  },
  {
   "cell_type": "markdown",
   "metadata": {},
   "source": [
    "## 参数传递\n",
    "\n",
    "Python中，类型是属于对象的特性，变量是没有类型的\n",
    "\n",
    "在Python中，strings,tuples,和numbers是不可更改的对象，而list,dict则是可以修改的对象\n",
    "\n",
    ">不可变类型：变量赋值 a=5 后再赋值 a=10，这里实际是新生成一个 int 值对象 10，再让 a 指向它，而 5 被丢弃，不是改变a的值，相当于新生成了a。\n",
    ">\n",
    ">可变类型：变量赋值 la=[1,2,3,4] 后再赋值 la[2]=5 则是将 list la 的第三个元素值更改，本身la没有动，只是其内部的一部分值被修改了。\n",
    "\n",
    "Python的函数参数传递：\n",
    "\n",
    ">不可变类型：类似 c++ 的值传递，如 整数、字符串、元组。如fun（a），传递的只是a的值，没有影响a对象本身。比如在 fun（a）内部修改 a 的值，只是修改另一个复制的对象，不会影响 a 本身。\n",
    ">\n",
    ">可变类型：类似 c++ 的引用传递，如 列表，字典。如 fun（la），则是将 la 真正的传过去，修改后fun外部的la也会受影响\n",
    "\n",
    "Python中的一切都是对象，所以我们不应该说值传递还是引用传递，应该说传递的是可变对象还是不可变对象"
   ]
  },
  {
   "cell_type": "code",
   "execution_count": 3,
   "metadata": {},
   "outputs": [
    {
     "name": "stdout",
     "output_type": "stream",
     "text": [
      "2\n"
     ]
    }
   ],
   "source": [
    "def ChangeInt(b):\n",
    "    b = 10\n",
    "a = 2\n",
    "ChangeInt(a) #把a的引用传递给b，而b=10只是把b的引用指向了10，对a并没用影响\n",
    "print(a)"
   ]
  },
  {
   "cell_type": "code",
   "execution_count": 4,
   "metadata": {},
   "outputs": [
    {
     "name": "stdout",
     "output_type": "stream",
     "text": [
      "[1, 2, 3, 4, 10, 20]\n"
     ]
    }
   ],
   "source": [
    "def ChangeList(list1):\n",
    "    list1.append(10)\n",
    "    list2.append(20)\n",
    "list2 = [1, 2, 3, 4]\n",
    "ChangeList(list2)\n",
    "print(list2)"
   ]
  },
  {
   "cell_type": "markdown",
   "metadata": {},
   "source": [
    "## 参数：\n",
    "\n",
    "参数传递时包含以下参数：\n",
    "\n",
    ">必须参数\n",
    ">\n",
    ">关键字参数\n",
    ">\n",
    ">默认参数\n",
    ">\n",
    ">不定长参数"
   ]
  },
  {
   "cell_type": "markdown",
   "metadata": {},
   "source": [
    "### 必须参数\n",
    "\n",
    "必须参数必须以正确参数传入函数，并且数量必须和声明的一样\n",
    "\n",
    "### 关键字参数\n",
    "\n",
    "关键字参数利用类似赋值的方式传递函数，顺序可以和定义时的顺序不一样\n",
    "\n",
    "### 默认参数\n",
    "\n",
    "默认参数如果在调用函数时没有赋值，则会使用默认值\n",
    "\n",
    "### 不定长参数\n",
    "\n",
    "不定长参数可以储存比声明时的更多的参数，基本语法如下：\n",
    "\n",
    "```Python\n",
    "def fuctionname([formal_args], *var_args_tuple):\n",
    "    fuction_suite\n",
    "    return [expression]\n",
    "```\n",
    "\n",
    "加了`*`的参数会以元组的形式传入，存放多余的变量，如果没有多余的参数，就会是一个空元组"
   ]
  },
  {
   "cell_type": "code",
   "execution_count": 5,
   "metadata": {},
   "outputs": [
    {
     "name": "stdout",
     "output_type": "stream",
     "text": [
      "1\n",
      "(2, 3, 4, 5)\n"
     ]
    }
   ],
   "source": [
    "def Print1(arg1, *vartuple):\n",
    "    print(arg1)\n",
    "    print(vartuple)\n",
    "Print1(1, 2, 3, 4, 5)"
   ]
  },
  {
   "cell_type": "markdown",
   "metadata": {},
   "source": [
    "加了`**`的参数会以字典的形式导入"
   ]
  },
  {
   "cell_type": "code",
   "execution_count": 6,
   "metadata": {},
   "outputs": [
    {
     "name": "stdout",
     "output_type": "stream",
     "text": [
      "1\n",
      "{'a': 2, 'b': 3}\n"
     ]
    }
   ],
   "source": [
    "def Print2(arg1, **vardict):\n",
    "    print(arg1)\n",
    "    print(vardict)\n",
    "Print2(1, a = 2, b = 3)"
   ]
  },
  {
   "cell_type": "markdown",
   "metadata": {},
   "source": [
    "声明函数时，参数中的星号`*`可以单独出现，如果单独出现星号，则后面的参数必须使用关键字传入"
   ]
  },
  {
   "cell_type": "code",
   "execution_count": 7,
   "metadata": {
    "scrolled": true
   },
   "outputs": [
    {
     "name": "stdout",
     "output_type": "stream",
     "text": [
      "10\n"
     ]
    },
    {
     "ename": "TypeError",
     "evalue": "add() takes 2 positional arguments but 4 were given",
     "output_type": "error",
     "traceback": [
      "\u001b[1;31m---------------------------------------------------------------------------\u001b[0m",
      "\u001b[1;31mTypeError\u001b[0m                                 Traceback (most recent call last)",
      "\u001b[1;32m<ipython-input-7-8295b9933019>\u001b[0m in \u001b[0;36m<module>\u001b[1;34m\u001b[0m\n\u001b[0;32m      3\u001b[0m \u001b[0me\u001b[0m \u001b[1;33m=\u001b[0m \u001b[0madd\u001b[0m\u001b[1;33m(\u001b[0m\u001b[1;36m1\u001b[0m\u001b[1;33m,\u001b[0m \u001b[1;36m2\u001b[0m\u001b[1;33m,\u001b[0m \u001b[0mc\u001b[0m\u001b[1;33m=\u001b[0m\u001b[1;36m3\u001b[0m\u001b[1;33m,\u001b[0m \u001b[0md\u001b[0m\u001b[1;33m=\u001b[0m\u001b[1;36m4\u001b[0m\u001b[1;33m)\u001b[0m\u001b[1;33m\u001b[0m\u001b[1;33m\u001b[0m\u001b[0m\n\u001b[0;32m      4\u001b[0m \u001b[0mprint\u001b[0m\u001b[1;33m(\u001b[0m\u001b[0me\u001b[0m\u001b[1;33m)\u001b[0m\u001b[1;33m\u001b[0m\u001b[1;33m\u001b[0m\u001b[0m\n\u001b[1;32m----> 5\u001b[1;33m \u001b[0mf\u001b[0m \u001b[1;33m=\u001b[0m \u001b[0madd\u001b[0m\u001b[1;33m(\u001b[0m\u001b[1;36m1\u001b[0m\u001b[1;33m,\u001b[0m\u001b[1;36m2\u001b[0m\u001b[1;33m,\u001b[0m\u001b[1;36m3\u001b[0m\u001b[1;33m,\u001b[0m\u001b[1;36m4\u001b[0m\u001b[1;33m)\u001b[0m \u001b[1;31m#报错\u001b[0m\u001b[1;33m\u001b[0m\u001b[1;33m\u001b[0m\u001b[0m\n\u001b[0m",
      "\u001b[1;31mTypeError\u001b[0m: add() takes 2 positional arguments but 4 were given"
     ]
    }
   ],
   "source": [
    "def add(a, b, *, c, d):\n",
    "    return a + b + c + d\n",
    "e = add(1, 2, c=3, d=4)\n",
    "print(e)\n",
    "f = add(1,2,3,4) #报错"
   ]
  },
  {
   "cell_type": "markdown",
   "metadata": {},
   "source": [
    "在函数体中定义的变量都只是局部作用在函数体中，函数体中也无法访问外部作用域的变量\n",
    "\n",
    "当内部作用域想要修改外部作用域的变量时，就要使用`global`与`nonlocal`关键字了\n",
    "\n",
    "### global关键字："
   ]
  },
  {
   "cell_type": "code",
   "execution_count": 1,
   "metadata": {},
   "outputs": [
    {
     "name": "stdout",
     "output_type": "stream",
     "text": [
      "1\n",
      "2\n",
      "2\n"
     ]
    }
   ],
   "source": [
    "num = 1\n",
    "def func1():\n",
    "    global num #要访问num必须使用global关键字\n",
    "    print(num)\n",
    "    num = 2\n",
    "    print(num)\n",
    "func1()\n",
    "print(num)"
   ]
  },
  {
   "cell_type": "markdown",
   "metadata": {},
   "source": [
    "### 闭包\n",
    "\n",
    "闭包是函数式编程的一个重要的语法结构，是一种特殊的内嵌函数\n",
    "\n",
    "通过闭包可以访问外层非全局作用域的变量，这个作用域称为闭包作用域"
   ]
  },
  {
   "cell_type": "code",
   "execution_count": 2,
   "metadata": {},
   "outputs": [
    {
     "name": "stdout",
     "output_type": "stream",
     "text": [
      "6\n"
     ]
    }
   ],
   "source": [
    "def funcX(x):\n",
    "    y = 2\n",
    "    def funcZ(z):      #此时funcZ函数属于闭包，但是可以访问x与y\n",
    "        return x * y *z\n",
    "    return funcZ\n",
    "i = funcX(1)\n",
    "print(i(3))"
   ]
  },
  {
   "cell_type": "code",
   "execution_count": 6,
   "metadata": {},
   "outputs": [
    {
     "name": "stdout",
     "output_type": "stream",
     "text": [
      "4\n",
      "12\n"
     ]
    }
   ],
   "source": [
    "def func2(x):\n",
    "    def func3(y):\n",
    "        x = 3               #只是新定义了一个x并没有修改原来x的值\n",
    "        return x * y\n",
    "    a = func3(4)\n",
    "    print(x)\n",
    "    return a\n",
    "print(func2(4))"
   ]
  },
  {
   "cell_type": "markdown",
   "metadata": {},
   "source": [
    "### nonlocal关键字\n",
    "\n",
    "使用`nonlocal`关键字则可以修改闭包中的变量"
   ]
  },
  {
   "cell_type": "code",
   "execution_count": 7,
   "metadata": {},
   "outputs": [
    {
     "name": "stdout",
     "output_type": "stream",
     "text": [
      "3\n",
      "12\n"
     ]
    }
   ],
   "source": [
    "def func4(x):\n",
    "    def func5(y):\n",
    "        nonlocal x\n",
    "        x = 3\n",
    "        return x * y\n",
    "    a = func5(4)\n",
    "    print(x)\n",
    "    return a\n",
    "print(func4(4))"
   ]
  },
  {
   "cell_type": "markdown",
   "metadata": {},
   "source": [
    "# 匿名函数\n",
    "\n",
    "Python使用lambda来创建匿名函数\n",
    "\n",
    ">lambda的主体只是一个表达式，不是一个代码块，因此只能在其中封装有限的逻辑\n",
    ">\n",
    ">lambda有自己的命名空间，而且不能访问自己参数列表以外的或者全局命名空间里的变量\n",
    "\n",
    "lambda 函数的语法只包含一个语句，如下\n",
    "\n",
    "`lambda [arg1 [,arg2,.....argn]]:expression`"
   ]
  },
  {
   "cell_type": "code",
   "execution_count": 8,
   "metadata": {},
   "outputs": [
    {
     "name": "stdout",
     "output_type": "stream",
     "text": [
      "3\n",
      "Hello World\n",
      "None\n"
     ]
    }
   ],
   "source": [
    "sum = lambda num1, num2 : num1 + num2\n",
    "print(sum(1, 2))\n",
    "Print3 = lambda str: print(str)\n",
    "print(Print3('Hello World'))"
   ]
  },
  {
   "cell_type": "markdown",
   "metadata": {},
   "source": [
    "由此可知，lambda函数的函数体中，如果有值，则作为返回值返回，如果没有返回值，则会返回None"
   ]
  }
 ],
 "metadata": {
  "kernelspec": {
   "display_name": "Python 3",
   "language": "python",
   "name": "python3"
  },
  "language_info": {
   "codemirror_mode": {
    "name": "ipython",
    "version": 3
   },
   "file_extension": ".py",
   "mimetype": "text/x-python",
   "name": "python",
   "nbconvert_exporter": "python",
   "pygments_lexer": "ipython3",
   "version": "3.7.4"
  }
 },
 "nbformat": 4,
 "nbformat_minor": 2
}
