{
 "cells": [
  {
   "cell_type": "markdown",
   "metadata": {},
   "source": [
    "# Day16：魔法方法"
   ]
  },
  {
   "cell_type": "markdown",
   "metadata": {},
   "source": [
    "在python中，有一些内置好的特定的方法，这些方法在进行特定的操作时会自动被调用，称之为魔法方法，下面介绍几种常见的魔法方法"
   ]
  },
  {
   "cell_type": "markdown",
   "metadata": {},
   "source": [
    "##  \\__init__方法\n",
    "\n",
    "初始化函数，在创建实例对象为其赋值时使用，在\\__new__之后，\\__init__必须至少有一个参数self，就是这个\\__new__返回的实例，\\__init__是在\\__new__的基础上可以完成一些其它初始化的动作，\\__init__不需要返回值\n",
    "\n",
    "## \\__new__方法\n",
    "\n",
    "很多人认为\\__init__是类的构造函数，其实不太确切，\\__init__更多的是负责初始化操作，相当于一个项目中的配置文件，\\__new__才是真正的构造函数，创建并返回一个实例对象，如果\\__new__只调用了一次，就会得到一个对象。继承自object的新式类才有\\__new__这一魔法方法，\\__new__至少必须要有一个参数cls，代表要实例化的类，此参数在实例化时由Python解释器自动提供，\\__new__必须要有返回值，返回实例化出来的实例（很重要），这点在自己实现\\__new__时要特别注意，可以return父类\\__new__出来的实例，或者直接是object的\\__new__出来的实例，若\\__new__没有正确返回当前类cls的实例，那\\__init__是不会被调用的，即使是父类的实例也不行。\\__new__是唯一在实例创建之前执行的方法，一般用在定义元类时使用\n",
    "\n",
    "创建对象的步骤：\n",
    "\n",
    "a、首先调用\\__new__得到一个对象\n",
    "\n",
    "b、调用\\__init__为对象添加属性\n",
    "\n",
    "c、将对象赋值给变量"
   ]
  },
  {
   "cell_type": "code",
   "execution_count": 1,
   "metadata": {},
   "outputs": [
    {
     "name": "stdout",
     "output_type": "stream",
     "text": [
      "__new__方法被调用\n",
      "1839932171288\n",
      "<__main__.A object at 0x000001AC65263DC8>\n",
      "<class '__main__.A'>\n",
      "1839932202440\n",
      "1839932171288\n",
      "1839943007688\n"
     ]
    }
   ],
   "source": [
    "class A:\n",
    "    pass\n",
    "class B(A):\n",
    "    def __init__(self):\n",
    "        print('__init__方法被调用')\n",
    "    def __new__(cls):\n",
    "        print('__new__方法被调用')\n",
    "        print(id(cls))\n",
    "        return object.__new__(A)\n",
    "\n",
    "b = B()\n",
    "print(b)\n",
    "print(type(b))\n",
    "print(id(A))\n",
    "print(id(B))\n",
    "print(id(b))"
   ]
  },
  {
   "cell_type": "markdown",
   "metadata": {},
   "source": [
    "从运行结果可以看出，\\__new__中的参数cls和B的id是相同的，表明\\__new__中默认的参数cls就是B类本身，而在return时，并没有正确返回当前类cls的实例，而是返回了其父类A的实例，因此\\__init__这一魔法方法并没有被调用，此时\\__new__虽然是写在B类中的，但其创建并返回的是一个A类的实例对象\n",
    "\n",
    "下面我们改变\\__new__的参数为cls再试一遍"
   ]
  },
  {
   "cell_type": "code",
   "execution_count": 2,
   "metadata": {
    "scrolled": true
   },
   "outputs": [
    {
     "name": "stdout",
     "output_type": "stream",
     "text": [
      "__new__方法被调用\n",
      "1839932204328\n",
      "__init__方法被调用\n",
      "<__main__.B object at 0x000001AC6526CAC8>\n",
      "<class '__main__.B'>\n",
      "1839932203384\n",
      "1839932204328\n",
      "1839943043784\n"
     ]
    }
   ],
   "source": [
    "class A:\n",
    "    pass\n",
    "class B(A):\n",
    "    def __init__(self):\n",
    "        print('__init__方法被调用')\n",
    "    def __new__(cls):\n",
    "        print('__new__方法被调用')\n",
    "        print(id(cls))\n",
    "        return object.__new__(cls)\n",
    "\n",
    "b = B()\n",
    "print(b)\n",
    "print(type(b))\n",
    "print(id(A))\n",
    "print(id(B))\n",
    "print(id(b))"
   ]
  },
  {
   "cell_type": "markdown",
   "metadata": {},
   "source": [
    "可以看出，当\\__new__正确返回其当前类cls的实例对象时，\\__init__被调用了，此时创建并返回的是一个B类的实例对象"
   ]
  },
  {
   "cell_type": "markdown",
   "metadata": {},
   "source": [
    "## \\__class__方法\n",
    "\n",
    "\\__class__方法作用是获取已知对象的类"
   ]
  },
  {
   "cell_type": "code",
   "execution_count": 3,
   "metadata": {},
   "outputs": [
    {
     "name": "stdout",
     "output_type": "stream",
     "text": [
      "<class '__main__.B'>\n"
     ]
    }
   ],
   "source": [
    "print(b.__class__)"
   ]
  },
  {
   "cell_type": "markdown",
   "metadata": {},
   "source": [
    "\\__class__至少在下面这种情况中是有用的：即当一个类中的某个成员变量是所有该类的对象的公共变量时，下面看一个例子"
   ]
  },
  {
   "cell_type": "code",
   "execution_count": 4,
   "metadata": {},
   "outputs": [
    {
     "name": "stdout",
     "output_type": "stream",
     "text": [
      "1\n",
      "2\n"
     ]
    }
   ],
   "source": [
    "class C:\n",
    "    count = 0\n",
    "    def addcount(self):\n",
    "        self.__class__.count += 1\n",
    "        \n",
    "a = C()\n",
    "b = C()\n",
    "a.addcount()\n",
    "print(a.count)\n",
    "b.addcount()\n",
    "print(b.count)"
   ]
  },
  {
   "cell_type": "markdown",
   "metadata": {},
   "source": [
    "## \\__str__方法\n",
    "\n",
    "在将对象转换成字符串 str (对象)测试的时候，打印对象的信息,\\__str__方法必须要return一个字符串类型的返回值，作为对实例对象的字符串描述，\\__str__实际上是被 print函数默认调用的，当要 print（实例对象）时，默认调用\\__str__方法，将其字符串描述返回。如果不是要用str()函数转换。当你打印一个类的时候，那么print首先调用的就是类里面的定义的\\__str__"
   ]
  },
  {
   "cell_type": "code",
   "execution_count": 5,
   "metadata": {},
   "outputs": [
    {
     "name": "stdout",
     "output_type": "stream",
     "text": [
      "我的名字是Leon\n",
      "<class '__main__.D'>\n"
     ]
    }
   ],
   "source": [
    "class D:\n",
    "    def __init__(self, name):\n",
    "        self.name = name\n",
    "    def __str__(self):\n",
    "        return('我的名字是%s' % self.name)\n",
    "    def __repr__(self):\n",
    "        return('这是D类的repr方法')\n",
    "d = D('Leon')\n",
    "print(d)\n",
    "print(D)"
   ]
  },
  {
   "cell_type": "markdown",
   "metadata": {},
   "source": [
    "## \\__repr__方法\n",
    "\n",
    "如果说\\__str__体现的是一种可读性，是给用户看的，那么\\__repr__方法体现的则是一种准确性，是给开发人员看的，它对应的是repr()函数，重构\\__repr__方法后，在控制台直接敲出实例对象的名称，就可以按照\\__repr__中return的值显示了"
   ]
  },
  {
   "cell_type": "code",
   "execution_count": 6,
   "metadata": {},
   "outputs": [
    {
     "data": {
      "text/plain": [
       "这是D类的repr方法"
      ]
     },
     "execution_count": 6,
     "metadata": {},
     "output_type": "execute_result"
    }
   ],
   "source": [
    "d"
   ]
  },
  {
   "cell_type": "markdown",
   "metadata": {},
   "source": [
    "当我们想所有环境下都统一显示的话，可以重构\\__repr__方法；当我们想在不同环境下支持不同的显示，例如终端用户显示使用\\__str__，而程序员在开发期间则使用底层的\\__repr__来显示，实际上\\__str__只是覆盖了\\__repr__以得到更友好的用户显示"
   ]
  },
  {
   "cell_type": "markdown",
   "metadata": {},
   "source": [
    "## \\__del__方法\n",
    "\n",
    "对象在程序运行结束之后进行垃圾回收的时候调用这个方法，来释放资源。此时，此方法是被自动调用的。除非有特殊要求，一般不要重写。在关闭数据库连接对象的时候，可以在这里，释放资源"
   ]
  },
  {
   "cell_type": "code",
   "execution_count": 11,
   "metadata": {},
   "outputs": [
    {
     "name": "stdout",
     "output_type": "stream",
     "text": [
      "Python 1\n",
      "C++ 2\n",
      "java 3\n",
      "over\n",
      "del Python 2\n",
      "del C++ 1\n",
      "del java 0\n"
     ]
    }
   ],
   "source": [
    "class E:\n",
    "    num = 0\n",
    "    def __init__(self, name):\n",
    "        self.name = name\n",
    "        E.num += 1\n",
    "        print(self.name, E.num)\n",
    "    def __del__(self):\n",
    "        E.num -= 1\n",
    "        print('del', self.name, E.num)\n",
    "aa = E('Python')\n",
    "bb = E('C++')\n",
    "cc = E('java')\n",
    "print('over')\n",
    "del aa\n",
    "del bb\n",
    "del cc"
   ]
  },
  {
   "cell_type": "markdown",
   "metadata": {},
   "source": [
    "## \\__getattribute__方法\n",
    "\n",
    "属性访问拦截器，在访问实例属性时自动调用。在python中，类的属性和方法都理解为属性，且均可以通过\\__getattribute__获取。当获取属性时，相当于对属性进行重写，直接return object.\\__getattribute__(self, \\*args, \\**kwargs)或者根据判断return所需要的重写值，如果需要获取某个方法的返回值时，则需要在函数后面加上一个()即可。如果不加的话，返回的是函数引用地址。下面看一个例子"
   ]
  },
  {
   "cell_type": "code",
   "execution_count": 12,
   "metadata": {},
   "outputs": [
    {
     "name": "stdout",
     "output_type": "stream",
     "text": [
      "programming\n",
      "Python\n"
     ]
    }
   ],
   "source": [
    "class F:\n",
    "    def __init__(self, lang):\n",
    "        self.sub1 = lang\n",
    "        self.sub2 = 'Python'\n",
    "    def __getattribute__(self, obj):\n",
    "        if obj == 'sub1':\n",
    "            return 'programming'\n",
    "        else:\n",
    "            return object.__getattribute__(self, obj)\n",
    "s = F('C++')\n",
    "print(s.sub1)\n",
    "print(s.sub2)"
   ]
  },
  {
   "cell_type": "markdown",
   "metadata": {},
   "source": [
    "## \\__base__方法\n",
    "\n",
    "获取指定类的所有父类构成元素，使用方法为类名\\.\\_\\_bases\\_\\_"
   ]
  },
  {
   "cell_type": "markdown",
   "metadata": {},
   "source": [
    "## \\__mro__方法\n",
    "\n",
    "显示指定类的所有继承脉络和继承顺序，假如这个指定的类不具有某些方法和属性，但与其有血统关系的类中具有这些属性和方法，则在访问这个类本身不具有的这些方法和属性时，会按照\\__mro__显示出来的顺序一层一层向后查找，直到找到为止"
   ]
  },
  {
   "cell_type": "markdown",
   "metadata": {},
   "source": [
    "## \\__call__方法\n",
    "\n",
    "具有\\__call__魔法方法的对象可以使用XXX()的形式被调用，比如说类的实例对象"
   ]
  },
  {
   "cell_type": "code",
   "execution_count": 13,
   "metadata": {},
   "outputs": [
    {
     "name": "stdout",
     "output_type": "stream",
     "text": [
      "__init__被调用\n",
      "__call__被调用\n"
     ]
    }
   ],
   "source": [
    "class H:\n",
    "    def __init__(self):\n",
    "        print('__init__被调用')\n",
    "    def __call__(self):\n",
    "        print('__call__被调用')\n",
    "h = H()\n",
    "h()"
   ]
  },
  {
   "cell_type": "markdown",
   "metadata": {},
   "source": [
    "## \\__all__方法\n",
    "\n",
    "将一个py文件作为模块导入时，其中if \\__name__ == \"main\"以上的类、方法、函数等都能被导入，但某些方法可能只是用来做测试用的，不希望也不建议被导入，可以用\\__all__=['函数名或方法名']的方式限制一下哪些函数或方法可以被导入，即[]中的函数名或方法名可以被导入。但是需要强调的是，\\__all__魔法方法只针对通过 from xx import *这种导入方式有效\n",
    "\n",
    "```Python\n",
    "__all__ = ['a', 'b']\n",
    "def a():\n",
    "    pass\n",
    "def b():\n",
    "    pass\n",
    "def c():\n",
    "    pass\n",
    "----------------\n",
    "from file.py import *\n",
    "a()\n",
    "b()\n",
    "c() #产生错误\n",
    "```"
   ]
  }
 ],
 "metadata": {
  "kernelspec": {
   "display_name": "Python 3",
   "language": "python",
   "name": "python3"
  },
  "language_info": {
   "codemirror_mode": {
    "name": "ipython",
    "version": 3
   },
   "file_extension": ".py",
   "mimetype": "text/x-python",
   "name": "python",
   "nbconvert_exporter": "python",
   "pygments_lexer": "ipython3",
   "version": "3.7.4"
  }
 },
 "nbformat": 4,
 "nbformat_minor": 2
}
