{
 "cells": [
  {
   "cell_type": "markdown",
   "metadata": {},
   "source": [
    "# Day12: else 和 with 语句"
   ]
  },
  {
   "cell_type": "markdown",
   "metadata": {},
   "source": [
    "## 丰富的else语句\n",
    "\n",
    "### while... else语句与for... else语句"
   ]
  },
  {
   "cell_type": "code",
   "execution_count": 3,
   "metadata": {},
   "outputs": [
    {
     "name": "stdout",
     "output_type": "stream",
     "text": [
      "0 is less than 5\n",
      "1 is less than 5\n",
      "2 is less than 5\n",
      "3 is less than 5\n",
      "4 is less than 5\n",
      "5 is more than 5\n"
     ]
    }
   ],
   "source": [
    "num = 0\n",
    "while num < 5:\n",
    "    print('%d is less than 5' % num)\n",
    "    num += 1\n",
    "else:\n",
    "    print('%d is more than 5' % num)"
   ]
  },
  {
   "cell_type": "code",
   "execution_count": 5,
   "metadata": {},
   "outputs": [
    {
     "name": "stdout",
     "output_type": "stream",
     "text": [
      "2\n",
      "3\n",
      "5\n",
      "7\n",
      "11\n",
      "13\n",
      "17\n",
      "19\n"
     ]
    }
   ],
   "source": [
    "for num in range(2, 20):\n",
    "    for i in range(2, num):\n",
    "        if(num % i == 0):\n",
    "            break\n",
    "    else:\n",
    "        print(num)"
   ]
  },
  {
   "cell_type": "markdown",
   "metadata": {},
   "source": [
    "在while... else语句与for... else语句中else语句的作用基本相同，都是作为循环正常运行没有被执行break时所执行的语句"
   ]
  },
  {
   "cell_type": "markdown",
   "metadata": {},
   "source": [
    "### try... except ... else语句\n",
    "\n",
    "如果在执行try语句时没有发生异常，Python将执行else语句后面的语句，之后控制流通过整个try语句\n",
    "\n",
    "```Python\n",
    "try:\n",
    "    正常操作\n",
    "    -----------\n",
    "except:\n",
    "    发生异常，执行这块代码\n",
    "    -----------\n",
    "else:\n",
    "    没有发生异常，执行这块代码\n",
    "```"
   ]
  },
  {
   "cell_type": "markdown",
   "metadata": {},
   "source": [
    "## 简洁的with语句\n",
    "\n",
    "关键词with语句可以保证诸如文件之类的对象在使用完之后会正确执行他的清理方法\n",
    "\n",
    "以下两块代码等价：\n",
    "\n",
    "不使用with语句打开文件：\n",
    "```Python\n",
    "try:\n",
    "    f = open('myfile.txt', 'w')\n",
    "    for line in f:\n",
    "        print(line)\n",
    "except OSError as error:\n",
    "    print('出错了', str(error))\n",
    "finally:\n",
    "    f.close()\n",
    "```\n",
    "\n",
    "使用with语句打开文件：\n",
    "```Python\n",
    "try:\n",
    "    with open('myfile.txt', 'w') as f:\n",
    "        for line in f:\n",
    "            print(line)\n",
    "except OSError as error:\n",
    "    print('出错了', str(error))\n",
    "```"
   ]
  }
 ],
 "metadata": {
  "kernelspec": {
   "display_name": "Python 3",
   "language": "python",
   "name": "python3"
  },
  "language_info": {
   "codemirror_mode": {
    "name": "ipython",
    "version": 3
   },
   "file_extension": ".py",
   "mimetype": "text/x-python",
   "name": "python",
   "nbconvert_exporter": "python",
   "pygments_lexer": "ipython3",
   "version": "3.7.4"
  }
 },
 "nbformat": 4,
 "nbformat_minor": 2
}
