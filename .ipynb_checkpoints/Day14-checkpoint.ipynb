{
 "cells": [
  {
   "cell_type": "markdown",
   "metadata": {},
   "source": [
    "# Day14：类与对象"
   ]
  },
  {
   "cell_type": "markdown",
   "metadata": {},
   "source": [
    "类对象支持两种操作：属性引用与实例化"
   ]
  },
  {
   "cell_type": "code",
   "execution_count": 1,
   "metadata": {},
   "outputs": [
    {
     "name": "stdout",
     "output_type": "stream",
     "text": [
      "12345\n",
      "Hello World\n"
     ]
    }
   ],
   "source": [
    "class MyClass1:\n",
    "    '''一个简单的类实例'''\n",
    "    i = 12345\n",
    "    def f(self):\n",
    "        return 'Hello World'\n",
    "x = MyClass1()\n",
    "#实例化类\n",
    "\n",
    "#访问类的属性与方法\n",
    "print(x.i)\n",
    "print(x.f())"
   ]
  },
  {
   "cell_type": "markdown",
   "metadata": {},
   "source": [
    "类有一个名为`__init()__`的特殊方法（构造方法），该方法在实例化时会自动调用"
   ]
  },
  {
   "cell_type": "code",
   "execution_count": 2,
   "metadata": {},
   "outputs": [
    {
     "name": "stdout",
     "output_type": "stream",
     "text": [
      "3.0\n",
      "-4.5\n"
     ]
    }
   ],
   "source": [
    "class MyClass2:\n",
    "    '''带构造方法的类实例'''\n",
    "    def __init__(self, realpart, imagpart):\n",
    "        self.r = realpart\n",
    "        self.i = imagpart\n",
    "x = MyClass2(3.0, -4.5)\n",
    "print(x.r)\n",
    "print(x.i)"
   ]
  },
  {
   "cell_type": "markdown",
   "metadata": {},
   "source": [
    "### self代表类的实例，并非类本身\n",
    "\n",
    "类的方法与普通的函数只有一个特别的区别——它们必须有一个额外的第一个参数名称, 按照惯例它的名称是 self"
   ]
  },
  {
   "cell_type": "code",
   "execution_count": 3,
   "metadata": {},
   "outputs": [
    {
     "name": "stdout",
     "output_type": "stream",
     "text": [
      "<__main__.MyClass3 object at 0x000002407ACC7408>\n",
      "<class '__main__.MyClass3'>\n"
     ]
    }
   ],
   "source": [
    "class MyClass3:\n",
    "    def prt(self):\n",
    "        print(self)\n",
    "        print(self.__class__)\n",
    "t = MyClass3()\n",
    "t.prt()\n",
    "#输出的第一个时实例的地址值\n",
    "#第二个是这个类的信息"
   ]
  },
  {
   "cell_type": "markdown",
   "metadata": {},
   "source": [
    "self并不是Python的关键字，只是我们习惯这样命名，换成其他名字也可以"
   ]
  },
  {
   "cell_type": "markdown",
   "metadata": {},
   "source": [
    "### 类的方法\n",
    "\n",
    "在类的内部，使用def关键字来定义一个方法，类方法必须包含参数self，且为第一个参数，self代表的是类的实例"
   ]
  },
  {
   "cell_type": "code",
   "execution_count": 7,
   "metadata": {},
   "outputs": [
    {
     "name": "stdout",
     "output_type": "stream",
     "text": [
      "Leno 说: 我 19 岁。\n",
      "\n",
      "0\n"
     ]
    }
   ],
   "source": [
    "class MyClass4:\n",
    "    name = ''\n",
    "    age = 0\n",
    "    __weight = 0 #前面加__表示是私有属性，不能在类外部直接访问\n",
    "    def __init__(self, n, a, w):\n",
    "        self.name = n\n",
    "        self.age = a\n",
    "        self.__weight = w\n",
    "    def speak(self):\n",
    "        print(\"%s 说: 我 %d 岁。\" %(self.name,self.age))\n",
    "stu = MyClass4('Leno', 19, 59)\n",
    "stu.speak()\n",
    "print(MyClass4.name) #实例的变量并不影响类的变量，尽管他们的名字一样\n",
    "print(MyClass4.age)"
   ]
  },
  {
   "cell_type": "markdown",
   "metadata": {},
   "source": [
    "## 继承\n",
    "\n",
    "需要注意圆括号中基类的顺序，若是基类中有相同的方法名，而在子类使用时未指定，python从左至右搜索 即方法在子类中未找到时，从左到右查找基类中是否包含方法"
   ]
  },
  {
   "cell_type": "code",
   "execution_count": 13,
   "metadata": {},
   "outputs": [
    {
     "name": "stdout",
     "output_type": "stream",
     "text": [
      "Leon 说: 我 19 岁了，我在读 1 年级\n"
     ]
    }
   ],
   "source": [
    "class MyClass5(MyClass4):\n",
    "    grade = ''\n",
    "    def __init__(self,n,a,w,g):\n",
    "        super().__init__(n,a,w)          #调用实例的方法\n",
    "        #或者MyClass4.__init__(self,n,a,w)#调用类的方法\n",
    "        self.grade = g\n",
    "    def speak(self):\n",
    "        #复写父类的方法\n",
    "        print(\"%s 说: 我 %d 岁了，我在读 %d 年级\"%(self.name,self.age,self.grade))\n",
    "stu1 = MyClass5('Leon', 19, 70, 1)\n",
    "stu1.speak()"
   ]
  },
  {
   "cell_type": "markdown",
   "metadata": {},
   "source": [
    "## 运算符重载\n",
    "\n",
    "Python同样支持对object运算符的重载"
   ]
  },
  {
   "cell_type": "code",
   "execution_count": 14,
   "metadata": {},
   "outputs": [
    {
     "name": "stdout",
     "output_type": "stream",
     "text": [
      "Vector (7, 8)\n"
     ]
    }
   ],
   "source": [
    "class Vector:\n",
    "    def __init__(self, a, b):\n",
    "        self.a = a\n",
    "        self.b = b\n",
    " \n",
    "    def __str__(self):\n",
    "        return 'Vector (%d, %d)' % (self.a, self.b)\n",
    "   \n",
    "    def __add__(self,other):\n",
    "        return Vector(self.a + other.a, self.b + other.b)\n",
    "    \n",
    "v1 = Vector(2,10)\n",
    "v2 = Vector(5,-2)\n",
    "print (v1 + v2)"
   ]
  }
 ],
 "metadata": {
  "kernelspec": {
   "display_name": "Python 3",
   "language": "python",
   "name": "python3"
  },
  "language_info": {
   "codemirror_mode": {
    "name": "ipython",
    "version": 3
   },
   "file_extension": ".py",
   "mimetype": "text/x-python",
   "name": "python",
   "nbconvert_exporter": "python",
   "pygments_lexer": "ipython3",
   "version": "3.7.4"
  }
 },
 "nbformat": 4,
 "nbformat_minor": 2
}
