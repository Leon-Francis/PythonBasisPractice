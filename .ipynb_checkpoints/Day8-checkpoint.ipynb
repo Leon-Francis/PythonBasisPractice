{
 "cells": [
  {
   "cell_type": "markdown",
   "metadata": {},
   "source": [
    "# Day8:字典与集合"
   ]
  },
  {
   "cell_type": "markdown",
   "metadata": {},
   "source": [
    "## 字典：\n",
    "\n",
    "字典是除列表外另一种可变容器模型，并且可以存储任意类型的对象\n",
    "\n",
    "字典每一个键值用`:`分割，每个对之间用`,`分割，整个字典包裹在花括号中\n",
    "\n",
    "`d = {key1 : value1, key2 : value2 }`\n",
    "\n",
    "键必须是唯一的，但值不用，\n",
    "\n",
    "值可以取任意类型，但键必须是不可变的，如字符串，数字或元组"
   ]
  },
  {
   "cell_type": "markdown",
   "metadata": {},
   "source": [
    "### 访问字典的值\n",
    "\n",
    "把相应的键放在方括号里"
   ]
  },
  {
   "cell_type": "code",
   "execution_count": 1,
   "metadata": {},
   "outputs": [
    {
     "name": "stdout",
     "output_type": "stream",
     "text": [
      "Leon\n",
      "1802\n"
     ]
    }
   ],
   "source": [
    "dict1 = {'name':'Leon', 'age': 19, 'class': 1802}\n",
    "print(dict1['name'])\n",
    "print(dict1['class'])"
   ]
  },
  {
   "cell_type": "markdown",
   "metadata": {},
   "source": [
    "### 修改字典元素"
   ]
  },
  {
   "cell_type": "code",
   "execution_count": 2,
   "metadata": {},
   "outputs": [
    {
     "name": "stdout",
     "output_type": "stream",
     "text": [
      "20\n",
      "NCEPU\n"
     ]
    }
   ],
   "source": [
    "dict1['age'] = 20 #修改值\n",
    "dict1['school'] = 'NCEPU' #增加键值对\n",
    "print(dict1['age'])\n",
    "print(dict1['school'])"
   ]
  },
  {
   "cell_type": "markdown",
   "metadata": {},
   "source": [
    "### 删除字典元素"
   ]
  },
  {
   "cell_type": "code",
   "execution_count": 3,
   "metadata": {},
   "outputs": [],
   "source": [
    "del dict1['age'] #删除键'age'\n",
    "dict1.clear #清空字典\n",
    "del dict1 #删除字典"
   ]
  },
  {
   "cell_type": "markdown",
   "metadata": {},
   "source": [
    "### `in`操作符用于判断键是否位于字典中"
   ]
  },
  {
   "cell_type": "code",
   "execution_count": 8,
   "metadata": {},
   "outputs": [
    {
     "name": "stdout",
     "output_type": "stream",
     "text": [
      "Leon\n"
     ]
    }
   ],
   "source": [
    "if 'name' in dict3:\n",
    "    print(dict3['name'])"
   ]
  },
  {
   "cell_type": "markdown",
   "metadata": {},
   "source": [
    "## 字典的内置函数与方法"
   ]
  },
  {
   "cell_type": "markdown",
   "metadata": {},
   "source": [
    "### 内置函数"
   ]
  },
  {
   "cell_type": "markdown",
   "metadata": {},
   "source": [
    "#### len()函数\n",
    "\n",
    "计算键的总数"
   ]
  },
  {
   "cell_type": "code",
   "execution_count": 5,
   "metadata": {},
   "outputs": [
    {
     "name": "stdout",
     "output_type": "stream",
     "text": [
      "3\n"
     ]
    }
   ],
   "source": [
    "dict2 = {1:2, 3:4, 5:6}\n",
    "print(len(dict2))"
   ]
  },
  {
   "cell_type": "markdown",
   "metadata": {},
   "source": [
    "#### str()函数\n",
    "\n",
    "把字典转换为字符串"
   ]
  },
  {
   "cell_type": "code",
   "execution_count": 6,
   "metadata": {},
   "outputs": [
    {
     "name": "stdout",
     "output_type": "stream",
     "text": [
      "{'name': 'Leon', 'age': 19, 'class': 1802}\n",
      "{'name': 'Leon', 'age': 19, 'class': 1802}\n"
     ]
    }
   ],
   "source": [
    "dict3 = {'name':'Leon', 'age': 19, 'class': 1802}\n",
    "string = str(dict3)\n",
    "print(string)\n",
    "print(dict3)"
   ]
  },
  {
   "cell_type": "markdown",
   "metadata": {},
   "source": [
    "#### type()函数\n",
    "\n",
    "返回输入的变量类型，如果变量是字典就返回字典类型"
   ]
  },
  {
   "cell_type": "code",
   "execution_count": 7,
   "metadata": {},
   "outputs": [
    {
     "name": "stdout",
     "output_type": "stream",
     "text": [
      "<class 'str'>\n",
      "<class 'int'>\n",
      "<class 'dict'>\n"
     ]
    }
   ],
   "source": [
    "print(type(dict3['name']))\n",
    "print(type(dict3['age']))\n",
    "print(type(dict3))"
   ]
  },
  {
   "cell_type": "markdown",
   "metadata": {},
   "source": [
    "### 内置方法"
   ]
  },
  {
   "cell_type": "markdown",
   "metadata": {},
   "source": [
    "#### clear()方法\n",
    "\n",
    "清除字典中的所有键值对"
   ]
  },
  {
   "cell_type": "markdown",
   "metadata": {},
   "source": [
    "#### copy()方法\n",
    "\n",
    "返回一个字典的浅复制"
   ]
  },
  {
   "cell_type": "markdown",
   "metadata": {},
   "source": [
    "#### fromkeys()方法\n",
    "\n",
    "字典 fromkeys() 方法用于创建一个新字典，以序列 seq 中元素做字典的键，value 为字典所有键对应的初始值\n",
    "\n",
    "语法：`dict.fromkeys(seq[, value])`"
   ]
  },
  {
   "cell_type": "code",
   "execution_count": 9,
   "metadata": {},
   "outputs": [
    {
     "name": "stdout",
     "output_type": "stream",
     "text": [
      "{'name': 10, 'age': 10, 'class': 10}\n"
     ]
    }
   ],
   "source": [
    "seq = ('name', 'age', 'class')\n",
    "dict4 = {}\n",
    "dict4 = dict4.fromkeys(seq, 10)\n",
    "print(dict4)"
   ]
  },
  {
   "cell_type": "markdown",
   "metadata": {},
   "source": [
    "#### get()方法\n",
    "\n",
    "字典 get() 函数返回指定键的值，如果键不在字典中返回默认值"
   ]
  },
  {
   "cell_type": "code",
   "execution_count": 10,
   "metadata": {
    "scrolled": true
   },
   "outputs": [
    {
     "name": "stdout",
     "output_type": "stream",
     "text": [
      "Leon\n",
      "male\n"
     ]
    }
   ],
   "source": [
    "print(dict3.get('name'))\n",
    "print(dict3.get('sex', 'male'))"
   ]
  },
  {
   "cell_type": "markdown",
   "metadata": {},
   "source": [
    "#### setdefault()方法\n",
    "\n",
    "与get()方法类似，只是如果查找的键不在字典中则按照默认值创建键值对"
   ]
  },
  {
   "cell_type": "code",
   "execution_count": 15,
   "metadata": {},
   "outputs": [
    {
     "name": "stdout",
     "output_type": "stream",
     "text": [
      "NCEPU\n",
      "{'name': 10, 'age': 10, 'class': 10, 'school': 'NCEPU'}\n"
     ]
    }
   ],
   "source": [
    "print(dict4.setdefault('school', 'NCEPU'))\n",
    "print(dict4)"
   ]
  },
  {
   "cell_type": "markdown",
   "metadata": {},
   "source": [
    "#### items方法()\n",
    "\n",
    "items()方法以类列表的形式返回键值对组成的元组"
   ]
  },
  {
   "cell_type": "code",
   "execution_count": 12,
   "metadata": {},
   "outputs": [
    {
     "name": "stdout",
     "output_type": "stream",
     "text": [
      "dict_items([('name', 'Leon'), ('age', 19), ('class', 1802)])\n",
      "name  : Leon\n",
      "age  : 19\n",
      "class  : 1802\n"
     ]
    }
   ],
   "source": [
    "print(dict3.items())\n",
    "for i,j in dict3.items():\n",
    "    print(i, ' :', j)"
   ]
  },
  {
   "cell_type": "markdown",
   "metadata": {},
   "source": [
    "#### keys()方法\n",
    "\n",
    "keys()方法以类列表的形式返回键\n",
    "\n",
    "#### values()方法\n",
    "\n",
    "values()方法以类列表的方式返回值"
   ]
  },
  {
   "cell_type": "code",
   "execution_count": 13,
   "metadata": {},
   "outputs": [
    {
     "name": "stdout",
     "output_type": "stream",
     "text": [
      "dict_keys(['name', 'age', 'class'])\n",
      "dict_values(['Leon', 19, 1802])\n"
     ]
    }
   ],
   "source": [
    "print(dict3.keys())\n",
    "print(dict3.values())\n",
    "#这种类列表是可以直接遍历的，但并不是列表"
   ]
  },
  {
   "cell_type": "markdown",
   "metadata": {},
   "source": [
    "#### update()方法\n",
    "\n",
    "update()方法把参数中的字典的键值对更新到了原来的字典中"
   ]
  },
  {
   "cell_type": "code",
   "execution_count": 17,
   "metadata": {},
   "outputs": [
    {
     "name": "stdout",
     "output_type": "stream",
     "text": [
      "{'name': 'Leon', 'age': 19, 'class': 1802}\n",
      "{'name': 10, 'age': 20, 'class': 10, 'school': 'NCEPU'}\n"
     ]
    }
   ],
   "source": [
    "print(dict3)\n",
    "dict4['age'] = 20\n",
    "dict3.update(dict4)\n",
    "print(dict3)"
   ]
  },
  {
   "cell_type": "markdown",
   "metadata": {},
   "source": [
    "#### pop()方法\n",
    "\n",
    "语法：`pop(key[,default])`\n",
    "\n",
    "pop()方法用于删除字典中key对应的键值对，并返回该键值对的值，如果没有，则返回default值\n",
    "\n",
    "#### popitem()方法\n",
    "\n",
    "语法：`popitem()`\n",
    "\n",
    "popitem()方法用于删除末尾的一个键值对并返回键值对组成的元组，如果字典为空则返回一个key异常"
   ]
  },
  {
   "cell_type": "code",
   "execution_count": 18,
   "metadata": {},
   "outputs": [
    {
     "name": "stdout",
     "output_type": "stream",
     "text": [
      "10\n",
      "('school', 'NCEPU')\n"
     ]
    }
   ],
   "source": [
    "print(dict3.pop('name'))\n",
    "print(dict3.popitem())"
   ]
  },
  {
   "cell_type": "markdown",
   "metadata": {},
   "source": [
    "## 集合："
   ]
  },
  {
   "cell_type": "markdown",
   "metadata": {},
   "source": [
    "集合是一个无序的，不重复的元素序列\n",
    "\n",
    "可以用`{}`或者`set()`函数创建集合，但是创建空集合必须使用set()而不是{}因为{}会创建一个空字典"
   ]
  },
  {
   "cell_type": "code",
   "execution_count": 20,
   "metadata": {},
   "outputs": [
    {
     "name": "stdout",
     "output_type": "stream",
     "text": [
      "{'java', 'Python', 'c++'}\n",
      "{'d', 'b', 'e', 'a', 'c'}\n",
      "{'b', 'f', 'h', 'e'}\n",
      "{'a', 'c', 'd'}\n",
      "{'d', 'b', 'e', 'h', 'a', 'f', 'c'}\n",
      "{'b', 'e'}\n",
      "{'d', 'h', 'a', 'f', 'c'}\n"
     ]
    }
   ],
   "source": [
    "set1 = {'Python', 'c++', 'Python', 'java', 'Python'}\n",
    "print(set1)\n",
    "set2 = set('abcbcadebdeca')\n",
    "set3 = set('befhbhfef')\n",
    "print(set2)\n",
    "print(set3)\n",
    "print(set2 - set3)\n",
    "print(set2 | set3)\n",
    "print(set2 & set3)\n",
    "print(set2 ^ set3)   #不同时包含于set2与set3中的元素"
   ]
  },
  {
   "cell_type": "code",
   "execution_count": 21,
   "metadata": {},
   "outputs": [
    {
     "name": "stdout",
     "output_type": "stream",
     "text": [
      "{'b', 'a', 'c'}\n"
     ]
    }
   ],
   "source": [
    "a = {x for x in 'abcdefacbed' if x not in 'deffedef'}\n",
    "print(a)"
   ]
  },
  {
   "cell_type": "markdown",
   "metadata": {},
   "source": [
    "### 集合的基本操作"
   ]
  },
  {
   "cell_type": "markdown",
   "metadata": {},
   "source": [
    "#### 增加元素\n",
    "\n",
    "`set.add()`将元素加到集合当中，如果已经存在，则不做任何操作\n",
    "\n",
    "`set.update()`也可以向集合中加入元素，并且该元素可以是列表，元组以及集合"
   ]
  },
  {
   "cell_type": "code",
   "execution_count": 28,
   "metadata": {},
   "outputs": [
    {
     "name": "stdout",
     "output_type": "stream",
     "text": [
      "{1}\n",
      "{1, 2, 3}\n",
      "{1, 2, 3, 4, 5}\n",
      "{1, 2, 3, 4, 5, 6, 7}\n"
     ]
    }
   ],
   "source": [
    "set4 = set()\n",
    "set4.add(1)\n",
    "print(set4)\n",
    "set4.update([1, 2, 3])\n",
    "print(set4)\n",
    "set4.update((3, 4, 5))\n",
    "print(set4)\n",
    "set4.update({5, 5, 6, 7})\n",
    "print(set4)"
   ]
  },
  {
   "cell_type": "markdown",
   "metadata": {},
   "source": [
    "#### 移除元素\n",
    "\n",
    "语法：`set.remove(x)`\n",
    "\n",
    "将元素x从集合中移除，如果不存在该元素则会抛出异常\n",
    "\n",
    "语法：`set.discard(x)`\n",
    "\n",
    "也是将元素x从集合中移除，如果不存在该元素不会抛出异常\n",
    "\n",
    "语法：`set.pop()`\n",
    "\n",
    "随机删除集合中的一个元素，并返回删除元素的值"
   ]
  },
  {
   "cell_type": "markdown",
   "metadata": {},
   "source": [
    "#### 计算集合中元素个数\n",
    "\n",
    "语法：len(set)"
   ]
  },
  {
   "cell_type": "markdown",
   "metadata": {},
   "source": [
    "#### 清空集合\n",
    "\n",
    "语法：`set.clear()`"
   ]
  },
  {
   "cell_type": "markdown",
   "metadata": {},
   "source": [
    "### 集合的其他方法"
   ]
  },
  {
   "cell_type": "markdown",
   "metadata": {},
   "source": [
    "#### copy()方法\n",
    "\n",
    "返回一个集合的浅拷贝"
   ]
  },
  {
   "cell_type": "markdown",
   "metadata": {},
   "source": [
    "#### difference()方法\n",
    "\n",
    "返回集合的差集，即返回的集合元素包含在第一个集合中，但不包含在第二个集合(方法的参数)中\n",
    "\n",
    "#### difference_update()方法\n",
    "\n",
    "与difference()方法不同的是它会直接修改原来的集合"
   ]
  },
  {
   "cell_type": "code",
   "execution_count": 30,
   "metadata": {},
   "outputs": [
    {
     "name": "stdout",
     "output_type": "stream",
     "text": [
      "{1, 5}\n"
     ]
    }
   ],
   "source": [
    "set5 = {1, 2, 3, 4, 5}\n",
    "print(set5.difference({4, 6, 8, 9}, {2, 3, 6 ,8}))"
   ]
  },
  {
   "cell_type": "markdown",
   "metadata": {},
   "source": [
    "#### intersection()方法 与 intersection_update()方法\n",
    "\n",
    "返回两个集合的交集"
   ]
  },
  {
   "cell_type": "markdown",
   "metadata": {},
   "source": [
    "#### union()方法\n",
    "\n",
    "返回两个或多个集合的并集"
   ]
  },
  {
   "cell_type": "markdown",
   "metadata": {},
   "source": [
    "#### symmetric_difference() 方法 与 symmetric_difference_update() 方法\n",
    "\n",
    "返回两个集合的并集但是删除掉了重复的元素"
   ]
  },
  {
   "cell_type": "markdown",
   "metadata": {},
   "source": [
    "#### isdisjoint()方法\n",
    "\n",
    "isdisjoint()方法用于判断两个集合是否包含相同的元素，如果不包含相同元素则返回 True，否则返回 False"
   ]
  },
  {
   "cell_type": "markdown",
   "metadata": {},
   "source": [
    "#### issubset()方法\n",
    "\n",
    "issubset()方法用于判断该集合是否是参数集合的子集，如果是返回True,否则返回False\n",
    "\n",
    "#### issuperset()方法\n",
    "\n",
    "issuperset()方法用于判断参数集合是否是该集合的子集，如果是返回True,否则返回False"
   ]
  }
 ],
 "metadata": {
  "kernelspec": {
   "display_name": "Python 3",
   "language": "python",
   "name": "python3"
  },
  "language_info": {
   "codemirror_mode": {
    "name": "ipython",
    "version": 3
   },
   "file_extension": ".py",
   "mimetype": "text/x-python",
   "name": "python",
   "nbconvert_exporter": "python",
   "pygments_lexer": "ipython3",
   "version": "3.7.4"
  }
 },
 "nbformat": 4,
 "nbformat_minor": 2
}
