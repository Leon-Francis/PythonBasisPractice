{
 "cells": [
  {
   "cell_type": "markdown",
   "metadata": {},
   "source": [
    "# Day9：文件与文件系统"
   ]
  },
  {
   "cell_type": "markdown",
   "metadata": {},
   "source": [
    "读写文件前，我们先必须了解一下，在磁盘上读写文件的功能都是由操作系统提供的，现代操作系统不允许普通的程序直接操作磁盘，所以，读写文件就是请求操作系统打开一个文件对象（通常称为文件描述符），然后，通过操作系统提供的接口从这个文件对象中读取数据（读文件），或者把数据写入这个文件对象（写文件）\n",
    "\n",
    "### 读文件：\n",
    "\n",
    "Python内置的`open()`函数可以打开一个文件对象\n",
    "\n",
    "语法：`f = open('/Users/Leon/test.txt', 'r')`\n",
    "\n",
    "如果文件不存在，`open()`函数则会返回一个`IOError`的异常\n",
    "\n",
    "文件使用之后使用`close()`方法关闭文件\n",
    "\n",
    "文件使用完毕后必须关闭，因为文件对象会占用操作系统的资源，并且操作系统同一时间能打开的文件数量也是有限的\n",
    "\n",
    "但是每次都这么写实在是太繁琐了，所以Python引入了`with`语句来自动帮助我们调用`close()`语句\n",
    "\n",
    "语法：\n",
    "```Python\n",
    "with open(filename, 'w') as file_object:\n",
    "    ......\n",
    "```\n",
    "\n",
    "可以指定只读模式`r`,写入模式`w`,附加模式`a`,同时读取和写入`r+`\n",
    "\n",
    "打开文件之后，该文件就作为一个文件对象`file_object`,有一系列函数供其使用\n",
    "\n",
    "语法：\n",
    "```Python\n",
    "with open(filename, 'w') as file_object:\n",
    "    contents = file_objcet.read()\n",
    "```\n",
    "\n",
    "使用read()方法可以读取文件的全部内容，并全部储存在一个字符串里"
   ]
  },
  {
   "cell_type": "code",
   "execution_count": 10,
   "metadata": {},
   "outputs": [
    {
     "name": "stdout",
     "output_type": "stream",
     "text": [
      "<class '_io.TextIOWrapper'>\n",
      "3.1415926535\n",
      "8979323846\n",
      "2643383279\n"
     ]
    }
   ],
   "source": [
    "with open(r'D:\\PythonTest\\data.txt', 'r') as Pifile:\n",
    "    print(type(Pifile))\n",
    "    contents = Pifile.read()\n",
    "    print(contents)"
   ]
  },
  {
   "cell_type": "markdown",
   "metadata": {},
   "source": [
    "相比于源文件，输出不同的地方是末尾多了一个空行，因为read()读到文件末尾时会返回一个空字符串，而空字符串输出时就是空行\n",
    "\n",
    "要删除该空行，可以使用rstrip()方法"
   ]
  },
  {
   "cell_type": "code",
   "execution_count": 9,
   "metadata": {},
   "outputs": [
    {
     "name": "stdout",
     "output_type": "stream",
     "text": [
      "3.1415926535\n",
      "8979323846\n",
      "2643383279\n"
     ]
    }
   ],
   "source": [
    "with open(r'D:\\PythonTest\\data.txt', 'r') as Pifile:\n",
    "    contents = Pifile.read().rstrip()\n",
    "    print(contents)"
   ]
  },
  {
   "cell_type": "markdown",
   "metadata": {},
   "source": [
    "如果要打开中文文件时要使用`utf-8`编码"
   ]
  },
  {
   "cell_type": "code",
   "execution_count": 20,
   "metadata": {},
   "outputs": [
    {
     "name": "stdout",
     "output_type": "stream",
     "text": [
      "你好\n"
     ]
    }
   ],
   "source": [
    "with open('D:\\PythonTest\\hanzi.txt', 'r', encoding = 'utf-8') as hanzifile:\n",
    "    contents = hanzifile.read()\n",
    "    print(contents)"
   ]
  },
  {
   "cell_type": "markdown",
   "metadata": {},
   "source": [
    "### 逐行读取文件\n",
    "\n",
    "要以一行的方式检查文件，可对文件对象使用for循环"
   ]
  },
  {
   "cell_type": "code",
   "execution_count": 11,
   "metadata": {},
   "outputs": [
    {
     "name": "stdout",
     "output_type": "stream",
     "text": [
      "3.1415926535\n",
      "\n",
      "8979323846\n",
      "\n",
      "2643383279\n"
     ]
    }
   ],
   "source": [
    "with open(r'D:\\PythonTest\\data.txt', 'r') as Pifile:\n",
    "    for line in Pifile:\n",
    "        print(line)"
   ]
  },
  {
   "cell_type": "markdown",
   "metadata": {},
   "source": [
    "每一行后面会出现一个空行，这是因为文件的每一行后面都有一个看不见的换行符，print()函数后面也会加一个换行符\n",
    "\n",
    "可以使用rstrip()函数消除换行符"
   ]
  },
  {
   "cell_type": "code",
   "execution_count": 12,
   "metadata": {},
   "outputs": [
    {
     "name": "stdout",
     "output_type": "stream",
     "text": [
      "3.1415926535\n",
      "8979323846\n",
      "2643383279\n"
     ]
    }
   ],
   "source": [
    "with open(r'D:\\PythonTest\\data.txt', 'r') as Pifile:\n",
    "    for line in Pifile:\n",
    "        print(line.rstrip())"
   ]
  },
  {
   "cell_type": "markdown",
   "metadata": {},
   "source": [
    "使用关键字with 时，open() 返回的文件对象只在with 代码块内可用。如果要在with 代码块外访问文件的内容，可在with 代码块内将文件的各行存储在一个列表中，并在with 代码块外使用该列表：你可以立即处理文件的各个部分，也可推迟到程序后面再处理\n",
    "\n",
    "这实际上就是意味着把文件从外存中读到了内存里"
   ]
  },
  {
   "cell_type": "code",
   "execution_count": 14,
   "metadata": {},
   "outputs": [
    {
     "name": "stdout",
     "output_type": "stream",
     "text": [
      "3.1415926535\n",
      "8979323846\n",
      "2643383279\n"
     ]
    }
   ],
   "source": [
    "with open(r'D:\\PythonTest\\data.txt', 'r') as Pifile:\n",
    "    lines = Pifile.readlines()\n",
    "    \n",
    "for line in lines:\n",
    "    print(line.rstrip())"
   ]
  },
  {
   "cell_type": "code",
   "execution_count": 15,
   "metadata": {},
   "outputs": [
    {
     "name": "stdout",
     "output_type": "stream",
     "text": [
      "3.141592653589793238462643383279\n"
     ]
    }
   ],
   "source": [
    "Pi = ''\n",
    "for line in lines:\n",
    "    Pi += line.rstrip()\n",
    "print(Pi)"
   ]
  },
  {
   "cell_type": "markdown",
   "metadata": {},
   "source": [
    "注意：读取文本文件时，Python将其中的所有文本都解读为字符串。如果你读取的是数字，并要将其作为数值使用，就必须使用函数int() 将其转换为整数，或使用函数float() 将其转换为浮点数"
   ]
  },
  {
   "cell_type": "markdown",
   "metadata": {},
   "source": [
    "### 写入文件\n",
    "\n",
    "语法：\n",
    "```Python\n",
    "with open(filename, 'w') as file_object:\n",
    "    file_object.write('I love Python')\n",
    "```\n",
    "\n",
    "如果文件不存在，则会创建该文件，如果文件存在，则会在返回文件对象前清空文件内容\n",
    "\n",
    "write()方法并不会在输入后默认加上换行符，因此如果需要在输入中换行的话则要自己加上换行符\n",
    "\n",
    "如果使用附加模式`a`,则不会清空文件，而是把写入文件的字符串放在文件末尾"
   ]
  },
  {
   "cell_type": "code",
   "execution_count": 37,
   "metadata": {},
   "outputs": [
    {
     "name": "stdout",
     "output_type": "stream",
     "text": [
      "I love Python!\n",
      "I love programming!\n"
     ]
    }
   ],
   "source": [
    "with open('D:\\PythonTest\\data2.txt', 'w') as file2:\n",
    "    file2.write('I love Python!\\n')\n",
    "with open('D:\\PythonTest\\data2.txt', 'a') as file3:\n",
    "    file3.write('I love programming!\\n')\n",
    "with open('D:\\PythonTest\\data2.txt', 'r') as file4:\n",
    "    strings = file4.read()\n",
    "print(strings.rstrip())"
   ]
  },
  {
   "cell_type": "markdown",
   "metadata": {},
   "source": [
    "#### seek()方法\n",
    "\n",
    "seek() 方法用于移动文件读取指针到指定位置\n",
    "\n",
    "语法：`fileObject.seek(offset[, whence])`\n",
    "\n",
    "offset -- 开始的偏移量，也就是代表需要移动偏移的字节数，如果是负数表示从倒数第几位开始。\n",
    "\n",
    "whence：可选，默认值为 0。给 offset 定义一个参数，表示要从哪个位置开始偏移；0 代表从文件开头开始算起，1 代表从当前位置开始算起，2 代表从文件末尾算起\n",
    "\n",
    "如果操作成功，则返回新的文件位置，如果操作失败，则函数返回 -1"
   ]
  },
  {
   "cell_type": "code",
   "execution_count": 38,
   "metadata": {},
   "outputs": [
    {
     "name": "stdout",
     "output_type": "stream",
     "text": [
      "b'e'\n",
      "b'\\n'\n"
     ]
    }
   ],
   "source": [
    "with open('D:\\PythonTest\\data2.txt', 'rb') as file5:\n",
    "    file5.seek(5)\n",
    "    print(file5.read(1))\n",
    "    file5.seek(-1, 2)   #如果不用二进制形式无法从文件末尾读取\n",
    "    print(file5.read(1))"
   ]
  },
  {
   "cell_type": "markdown",
   "metadata": {},
   "source": [
    "#### truncate()方法\n",
    "\n",
    "truncate() 方法用于从文件的首行首字节开始截断，截断文件为 size 个字节，无 size 表示从当前位置截断；截断之后 V 后面的所有字节被删除，其中 Widnows 系统下的换行代表2个字节大小\n",
    "\n",
    "语法：`fileObject.truncate( [ size ])`\n",
    "\n",
    "没有返回值"
   ]
  },
  {
   "cell_type": "code",
   "execution_count": 39,
   "metadata": {},
   "outputs": [
    {
     "name": "stdout",
     "output_type": "stream",
     "text": [
      "I love Python!\n",
      "\n",
      "I love programming!\n",
      "\n"
     ]
    }
   ],
   "source": [
    "with open('D:\\PythonTest\\data2.txt', 'r+') as file6:\n",
    "    print(file6.readline())\n",
    "    file6.truncate()\n",
    "    print(file6.read())"
   ]
  },
  {
   "cell_type": "markdown",
   "metadata": {},
   "source": [
    "如果没有参数则直接在当前文件读取指针处截断并返回后面的文件\n",
    "\n",
    "如果有参数则在参数处阶段返回指针到参数之间的内容"
   ]
  },
  {
   "cell_type": "markdown",
   "metadata": {},
   "source": [
    "#### tell()方法\n",
    "\n",
    "返回当前位置"
   ]
  }
 ],
 "metadata": {
  "kernelspec": {
   "display_name": "Python 3",
   "language": "python",
   "name": "python3"
  },
  "language_info": {
   "codemirror_mode": {
    "name": "ipython",
    "version": 3
   },
   "file_extension": ".py",
   "mimetype": "text/x-python",
   "name": "python",
   "nbconvert_exporter": "python",
   "pygments_lexer": "ipython3",
   "version": "3.7.4"
  }
 },
 "nbformat": 4,
 "nbformat_minor": 2
}
