{
 "cells": [
  {
   "cell_type": "markdown",
   "metadata": {},
   "source": [
    "# Day4: 元组"
   ]
  },
  {
   "cell_type": "markdown",
   "metadata": {},
   "source": [
    "元组与列表类似，不同的是元组不能修改，写在()里，用逗号隔开\n",
    "\n",
    "元组的数据类型可以不相同\n",
    "\n",
    "使用索引时还是使用`[]`索引"
   ]
  },
  {
   "cell_type": "code",
   "execution_count": 1,
   "metadata": {},
   "outputs": [
    {
     "name": "stdout",
     "output_type": "stream",
     "text": [
      "(123, '456', 2.22, 'bbb')\n",
      "123\n",
      "(123,)\n",
      "(2.22,)\n",
      "(123, '456', 2.22, 'bbb', 123, '456', 2.22, 'bbb')\n"
     ]
    }
   ],
   "source": [
    "tuple1 = (123, '456', 2.22, \"bbb\")\n",
    "print(tuple1)\n",
    "print(tuple1[0])\n",
    "print(tuple1[:1])\n",
    "print(tuple1[2:-1])\n",
    "print(tuple1 * 2)"
   ]
  },
  {
   "cell_type": "markdown",
   "metadata": {},
   "source": [
    "其实，可以把字符串看成一种特殊的元组"
   ]
  },
  {
   "cell_type": "markdown",
   "metadata": {},
   "source": [
    "虽然元组的元素不能改变，但是可以包含可以改变的对象，比如列表\n",
    "\n",
    "构造包含 0 个或 1 个元素的元组比较特殊，所以有一些额外的语法规则："
   ]
  },
  {
   "cell_type": "code",
   "execution_count": 3,
   "metadata": {},
   "outputs": [
    {
     "name": "stdout",
     "output_type": "stream",
     "text": [
      "()\n",
      "(20,)\n"
     ]
    }
   ],
   "source": [
    "tuple2 = () #空元组\n",
    "tuple3 = (20,) #只有一个元素的元组，需要在第一个元素后加逗号\n",
    "print(tuple2)\n",
    "print(tuple3)"
   ]
  },
  {
   "cell_type": "markdown",
   "metadata": {},
   "source": [
    "tips：在创建元组时，不加括号也能创建,如果不加逗号，则括号会被当作运算符"
   ]
  },
  {
   "cell_type": "code",
   "execution_count": 6,
   "metadata": {},
   "outputs": [
    {
     "name": "stdout",
     "output_type": "stream",
     "text": [
      "('10', 'aaa', 12, 23.5)\n",
      "50\n"
     ]
    }
   ],
   "source": [
    "tuple4 = '10', 'aaa', 12, 23.5\n",
    "print(tuple4)\n",
    "tuple5 = (50)\n",
    "print(tuple5)"
   ]
  },
  {
   "cell_type": "markdown",
   "metadata": {},
   "source": [
    "元组的索引与列表相同，所以这里不再多做赘述"
   ]
  },
  {
   "cell_type": "markdown",
   "metadata": {},
   "source": [
    "元组中的值不能改变，但是可以对元组进行拼接操作"
   ]
  },
  {
   "cell_type": "code",
   "execution_count": 8,
   "metadata": {},
   "outputs": [
    {
     "name": "stdout",
     "output_type": "stream",
     "text": [
      "('aaa', 'bbb', '888')\n"
     ]
    }
   ],
   "source": [
    "tuple6 = 'aaa', 'bbb'\n",
    "tuple7 = '888',\n",
    "tuple8 = tuple6 + tuple7\n",
    "print(tuple8)"
   ]
  },
  {
   "cell_type": "markdown",
   "metadata": {},
   "source": [
    "## 元组的函数"
   ]
  },
  {
   "cell_type": "markdown",
   "metadata": {},
   "source": [
    "元组有四个函数\n",
    "\n",
    "`len` , `max` , `min` , `tuple`\n",
    "\n",
    "其意义与用法与列表的函数相同\n",
    "\n",
    "元组没有内置的方法(也有可能有但我还没有在资料上看到)"
   ]
  },
  {
   "cell_type": "code",
   "execution_count": 9,
   "metadata": {},
   "outputs": [
    {
     "name": "stdout",
     "output_type": "stream",
     "text": [
      "4\n",
      "ddd\n",
      "aaa\n",
      "(1, 2, 3, 4)\n"
     ]
    }
   ],
   "source": [
    "tuple9 = 'aaa', 'bbb', 'ccc', 'ddd'\n",
    "print(len(tuple9))\n",
    "print(max(tuple9))\n",
    "print(min(tuple9))\n",
    "list1 = [1, 2, 3, 4]\n",
    "tuple10 = tuple(list1)\n",
    "print(tuple10)"
   ]
  }
 ],
 "metadata": {
  "kernelspec": {
   "display_name": "Python 3",
   "language": "python",
   "name": "python3"
  },
  "language_info": {
   "codemirror_mode": {
    "name": "ipython",
    "version": 3
   },
   "file_extension": ".py",
   "mimetype": "text/x-python",
   "name": "python",
   "nbconvert_exporter": "python",
   "pygments_lexer": "ipython3",
   "version": "3.7.4"
  }
 },
 "nbformat": 4,
 "nbformat_minor": 2
}
