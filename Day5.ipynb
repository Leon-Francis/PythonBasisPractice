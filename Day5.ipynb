{
 "cells": [
  {
   "cell_type": "markdown",
   "metadata": {},
   "source": [
    "# Day5:字符串与序列"
   ]
  },
  {
   "cell_type": "markdown",
   "metadata": {},
   "source": [
    "## Python字符串\n",
    "\n",
    "Python的字符串可以用`''`单引号，或者`\"\"`双引号来定义，注意Python中并不存在字符类型，所有的字符都被当成了字符串\n",
    "\n",
    "在访问字符串时，使用`[]`方括号来进行对字符串的索引调用，使用方式与列表和元组相同，也可以使用`+`,`*`这些运算符号实现字符串的拼接"
   ]
  },
  {
   "cell_type": "markdown",
   "metadata": {},
   "source": [
    "### Python转义字符\n",
    "\n",
    "需要使用特殊字符时，使用`\\`反斜杠作为转义字符\n",
    "\n",
    "| 转义字符|描述 |\n",
    "| :-------:|:----:|\n",
    "|\\\\(在行尾时)|续行符|\n",
    "|\\\\\\\\|反斜杠符号|\n",
    "|\\\\'|单引号|\n",
    "|\\\\\"|双引号|\n",
    "|\\\\a|响铃|\n",
    "|\\\\b|退格|\n",
    "|\\\\000|空|\n",
    "|\\\\n|换行|\n",
    "|\\\\v|纵向制表符|\n",
    "|\\\\t|横向制表符|\n",
    "|\\\\r|回车|\n",
    "|\\\\f|换页|\n",
    "|\\otherstring|其他的字符以普通格式输出|"
   ]
  },
  {
   "cell_type": "code",
   "execution_count": 1,
   "metadata": {},
   "outputs": [
    {
     "name": "stdout",
     "output_type": "stream",
     "text": [
      "Hello World\n",
      "I'm fine\n",
      "Hello\bWorld\n"
     ]
    }
   ],
   "source": [
    "string1 = \"Hello\\\n",
    " World\"\n",
    "print(string1)\n",
    "string2 = 'I\\'m fine'\n",
    "print(string2)\n",
    "string3 = \"Hello\\bWorld\"\n",
    "print(string3)"
   ]
  },
  {
   "cell_type": "markdown",
   "metadata": {},
   "source": [
    "使用`r`或者`R`加在字符串的前面可以得到原始的字符串"
   ]
  },
  {
   "cell_type": "code",
   "execution_count": 2,
   "metadata": {},
   "outputs": [
    {
     "name": "stdout",
     "output_type": "stream",
     "text": [
      "Hello\\tworld\n",
      "I\\'m fine\n"
     ]
    }
   ],
   "source": [
    "string4 = r'Hello\\tworld'\n",
    "print(string4)\n",
    "string5 = r'I\\'m fine'\n",
    "print(string5) #这里\\'仍然可以使该反斜杠后的单引号不作为字符串结束的标志，但是反斜杠仍被照常输出了出来"
   ]
  },
  {
   "cell_type": "markdown",
   "metadata": {},
   "source": [
    "### Python字符串的格式化输出\n",
    "\n",
    "Python支持格式化的字符串输出，格式化字符串与c中的基本一样，但是使用这样的语法："
   ]
  },
  {
   "cell_type": "code",
   "execution_count": 3,
   "metadata": {},
   "outputs": [
    {
     "name": "stdout",
     "output_type": "stream",
     "text": [
      "2 + 3 = 5\n"
     ]
    }
   ],
   "source": [
    "print(\"%d + %d = %d\" % (2, 3, 2+3)) #后面跟的是一个元组，中间用%符号链接\n",
    "#值得一提的是，格式化字符串使用%%来输出单一的%"
   ]
  },
  {
   "cell_type": "markdown",
   "metadata": {},
   "source": [
    "### Python三引号\n",
    "\n",
    "python三引号允许一个字符串跨多行，字符串中可以包含换行符、制表符以及其他特殊字符。实例如下"
   ]
  },
  {
   "cell_type": "code",
   "execution_count": 4,
   "metadata": {},
   "outputs": [
    {
     "name": "stdout",
     "output_type": "stream",
     "text": [
      "这是一个多行字符串的实例\n",
      "多行字符串可以使用制表符\n",
      "TAB ( \t )。\n",
      "也可以使用换行符 [ \n",
      " ]。\n"
     ]
    }
   ],
   "source": [
    "string6 = \"\"\"这是一个多行字符串的实例\n",
    "多行字符串可以使用制表符\n",
    "TAB ( \\t )。\n",
    "也可以使用换行符 [ \\n ]。\n",
    "\"\"\"\n",
    "print (string6, end = \"\")"
   ]
  },
  {
   "cell_type": "markdown",
   "metadata": {},
   "source": [
    "## Python字符串的内置方法"
   ]
  },
  {
   "cell_type": "markdown",
   "metadata": {},
   "source": [
    "### capitalize方法\n",
    "\n",
    "将字符串的第一个字母变成大写，其余字母均变成小写，如果开头是非字母，则只是把所有字母变成小写\n",
    "\n",
    "**注意::** capitalize()方法不会修改原来的字符串，只是会返回一个新的字符串"
   ]
  },
  {
   "cell_type": "code",
   "execution_count": 5,
   "metadata": {},
   "outputs": [
    {
     "name": "stdout",
     "output_type": "stream",
     "text": [
      "Hello world\n"
     ]
    }
   ],
   "source": [
    "string7 = 'hello WORLD'\n",
    "print(string7.capitalize())"
   ]
  },
  {
   "cell_type": "markdown",
   "metadata": {},
   "source": [
    "### center()方法\n",
    "\n",
    "语法:  `str.center(width[, fillchar])`\n",
    "\n",
    "center()方法返回一个指定宽度width居中的字符串，并用fillchar填充空白的字符"
   ]
  },
  {
   "cell_type": "code",
   "execution_count": 6,
   "metadata": {},
   "outputs": [
    {
     "name": "stdout",
     "output_type": "stream",
     "text": [
      "****Hello World*****\n",
      "Hello World\n"
     ]
    }
   ],
   "source": [
    "string8 = 'Hello World'\n",
    "print(string8.center(20, '*'))\n",
    "print(string8.center(4, '*')) #当width小于字符串长度时，并不会截断"
   ]
  },
  {
   "cell_type": "markdown",
   "metadata": {},
   "source": [
    "### count()方法\n",
    "\n",
    "count() 方法用于统计字符串里某个字符出现的次数。可选参数为在字符串搜索的开始与结束位置\n",
    "\n",
    "语法： `str.count(sub, start= 0,end=len(string))`"
   ]
  },
  {
   "cell_type": "code",
   "execution_count": 7,
   "metadata": {},
   "outputs": [
    {
     "name": "stdout",
     "output_type": "stream",
     "text": [
      "2\n"
     ]
    }
   ],
   "source": [
    "string9 = 'Hello World'\n",
    "print(string9.count('l', 3))"
   ]
  },
  {
   "cell_type": "markdown",
   "metadata": {},
   "source": [
    "### encode()与decode()方法\n",
    "\n",
    "encode()方法以指定的编码格式编码字符串,返回一个bytes对象，decode()方法以指定的编码格式解码bytes对象\n",
    "\n",
    "errors -- 设置不同错误的处理方案。默认为 'strict',意为编码错误引起一个UnicodeError。 其他可能得值有 'ignore', 'replace', 'xmlcharrefreplace', 'backslashreplace' 以及通过 codecs.register_error() 注册的任何值\n",
    "\n",
    "`str.encode(encoding='UTF-8',errors='strict')`\n",
    "\n",
    "`bytes.decode(encoding=\"utf-8\", errors=\"strict\")`"
   ]
  },
  {
   "cell_type": "code",
   "execution_count": 8,
   "metadata": {},
   "outputs": [
    {
     "name": "stdout",
     "output_type": "stream",
     "text": [
      "Python学习\n",
      "UTF-8 编码： b'Python\\xe5\\xad\\xa6\\xe4\\xb9\\xa0'\n",
      "GBK 编码： b'Python\\xd1\\xa7\\xcf\\xb0'\n",
      "UTF-8 解码： Python学习\n",
      "GBK 解码： Python学习\n"
     ]
    }
   ],
   "source": [
    "string10 = \"Python学习\";\n",
    "str_utf8 = string10.encode(\"UTF-8\")\n",
    "str_gbk = string10.encode(\"GBK\")\n",
    " \n",
    "print(string10)\n",
    " \n",
    "print(\"UTF-8 编码：\", str_utf8)\n",
    "print(\"GBK 编码：\", str_gbk)\n",
    " \n",
    "print(\"UTF-8 解码：\", str_utf8.decode('UTF-8','strict'))\n",
    "print(\"GBK 解码：\", str_gbk.decode('GBK','strict'))"
   ]
  },
  {
   "cell_type": "markdown",
   "metadata": {},
   "source": [
    "### startwith()方法 与 endswith()方法\n",
    "\n",
    "startswith() 方法用于检查字符串是否是以指定子字符串开头，如果是则返回 True，否则返回 False。如果参数 beg 和 end 指定值，则在指定范围内检查\n",
    "\n",
    "`str.startwith(substr, beg=0,end=len(string))`\n",
    "\n",
    "endswith()方法用于判断字符串是否以指定后缀结尾，如果以指定后缀结尾返回 True，否则返回 False。可选参数 \"start\" 与 \"end\" 为检索字符串的开始与结束位置\n",
    "\n",
    "`str.endswith(suffix[, start[, end]])`"
   ]
  },
  {
   "cell_type": "code",
   "execution_count": 9,
   "metadata": {},
   "outputs": [
    {
     "name": "stdout",
     "output_type": "stream",
     "text": [
      "True\n",
      "True\n",
      "False\n"
     ]
    }
   ],
   "source": [
    "string11 = 'Hi! Python'\n",
    "print(string11.endswith('Python', 0))\n",
    "print(string11.endswith('Hi', 0, 2))\n",
    "print(string11.endswith('Hi', 0, 3))"
   ]
  },
  {
   "cell_type": "markdown",
   "metadata": {},
   "source": [
    "### expandtabs()方法\n",
    "\n",
    "expandtabs()方法把字符串中的 tab 符号('\\t')转为空格，tab 符号('\\t')默认的空格数是 8\n",
    "\n",
    "语法：`str.expandtabs(tabsize=8)`"
   ]
  },
  {
   "cell_type": "code",
   "execution_count": 10,
   "metadata": {},
   "outputs": [
    {
     "name": "stdout",
     "output_type": "stream",
     "text": [
      "原始字符串: this is\tstring example....wow!!!\n",
      "替换 \\t 符号: this is string example....wow!!!\n",
      "使用16个空格替换 \\t 符号: this is         string example....wow!!!\n"
     ]
    }
   ],
   "source": [
    "string12 = \"this is\\tstring example....wow!!!\"\n",
    " \n",
    "print (\"原始字符串: \" + string12)\n",
    "print (\"替换 \\\\t 符号: \" +  string12.expandtabs())\n",
    "print (\"使用16个空格替换 \\\\t 符号: \" +  string12.expandtabs(16))"
   ]
  },
  {
   "cell_type": "markdown",
   "metadata": {},
   "source": [
    "### find()方法\n",
    "\n",
    "find()方法检测字符串中是否包含查找的字符串，可以指定查找范围，如果没有查找的字符串返回-1，找到了则返回第一个匹配字符串第一个字母的索引\n",
    "\n",
    "语法：`str.find(str, beg=0, end=len(string))`"
   ]
  },
  {
   "cell_type": "code",
   "execution_count": 11,
   "metadata": {},
   "outputs": [
    {
     "name": "stdout",
     "output_type": "stream",
     "text": [
      "2\n",
      "1\n",
      "-1\n",
      "1\n"
     ]
    }
   ],
   "source": [
    "string13 = 'abcde'\n",
    "print(string13.find('c'))\n",
    "print(string13.find('b',1,-2))\n",
    "print(string13.find('d',1,3))\n",
    "print(string13.find('bc'))"
   ]
  },
  {
   "cell_type": "markdown",
   "metadata": {},
   "source": [
    "### rfind()方法\n",
    "\n",
    "rfind()返回字符串最后一次出现的位置，如果没有匹配项则返回-1\n",
    "\n",
    "语法：`str.rfind(str, beg=0 end=len(string))`"
   ]
  },
  {
   "cell_type": "markdown",
   "metadata": {},
   "source": [
    "### index()方法\n",
    "\n",
    "index()方法与find()方法几乎完全相同，只不过index()方法没有匹配到时会抛出一个异常"
   ]
  },
  {
   "cell_type": "markdown",
   "metadata": {},
   "source": [
    "### rindex()方法\n",
    "\n",
    "与rfind()方法类同"
   ]
  },
  {
   "cell_type": "markdown",
   "metadata": {},
   "source": [
    "### isalnum()方法\n",
    "\n",
    "isalnum()方法检测字符串是否由字母和数字组成\n",
    "\n",
    "语法：`string.isalnum()`\n",
    "\n",
    "如果字符串里有汉字，也返回True"
   ]
  },
  {
   "cell_type": "code",
   "execution_count": 12,
   "metadata": {},
   "outputs": [
    {
     "name": "stdout",
     "output_type": "stream",
     "text": [
      "True\n",
      "False\n"
     ]
    }
   ],
   "source": [
    "string14 = 'Python123你好'\n",
    "print(string14.isalnum())\n",
    "string15 = 'Hello World'\n",
    "print(string15.isalnum())"
   ]
  },
  {
   "cell_type": "markdown",
   "metadata": {},
   "source": [
    "### isalpha()方法\n",
    "\n",
    "isalpha()方法检测是否只是由字母或文字构成"
   ]
  },
  {
   "cell_type": "markdown",
   "metadata": {},
   "source": [
    "### isdigit()方法\n",
    "\n",
    "isdigit()方法检测字符串是否只由数字组成"
   ]
  },
  {
   "cell_type": "markdown",
   "metadata": {},
   "source": [
    "### islower()方法 与 isupper()方法\n",
    "\n",
    "islower()方法检测字符串是否由小写字母组成\n",
    "\n",
    "isupper()方法检测字符串是否由大写字母构成\n",
    "\n",
    "如果字符串中包含至少一个区分大小写的字符，并且所有这些(区分大小写的)字符都是小写，则返回 True，否则返回 False"
   ]
  },
  {
   "cell_type": "markdown",
   "metadata": {},
   "source": [
    "### lower()方法 与 upper()方法\n",
    "\n",
    "语法`str.lower()` `str.upper()`\n",
    "\n",
    "lower()方法转换字符串中所有大写字符为小写\n",
    "\n",
    "upper()方法转换字符串中所有大写字符为大写"
   ]
  },
  {
   "cell_type": "markdown",
   "metadata": {},
   "source": [
    "### isnumeric()方法\n",
    "\n",
    "isnumeric方法检测字符串是否只由数字组成"
   ]
  },
  {
   "cell_type": "markdown",
   "metadata": {},
   "source": [
    "### isspace()方法\n",
    "\n",
    "isspace()方法检测字符串是否只是由空格符组成\n",
    "\n",
    "空白符包含：空格、制表符(\\t)、换行(\\n)、回车(\\r）等\n",
    "\n",
    "而空串不属于空格符"
   ]
  },
  {
   "cell_type": "markdown",
   "metadata": {},
   "source": [
    "### istitle()方法\n",
    "\n",
    "istitle()方法检测字符串中所有的单词拼写首字母是否为大写，且其他字母为小写"
   ]
  },
  {
   "cell_type": "markdown",
   "metadata": {},
   "source": [
    "### title()方法\n",
    "\n",
    "title()方法把字符串转换为title"
   ]
  },
  {
   "cell_type": "markdown",
   "metadata": {},
   "source": [
    "### join()方法用于将序列中的元素以指定的字符连接生成一个新的字符串\n",
    "\n",
    "语法：`str.join(seq)`\n",
    "\n",
    "返回通过指定字符连接序列中元素后生成的新字符串"
   ]
  },
  {
   "cell_type": "code",
   "execution_count": 13,
   "metadata": {},
   "outputs": [
    {
     "name": "stdout",
     "output_type": "stream",
     "text": [
      "r u n o o b\n",
      "runoob\n",
      "r-u-n-o-o-b\n"
     ]
    }
   ],
   "source": [
    "string16 = \" \"\n",
    "string17 = ''\n",
    "string18 = '-'\n",
    "seq = (\"r\", \"u\", \"n\", \"o\", \"o\", \"b\")\n",
    "print(string16.join(seq))\n",
    "print(string17.join(seq))\n",
    "print(string18.join(seq))"
   ]
  },
  {
   "cell_type": "markdown",
   "metadata": {},
   "source": [
    "### len()方法\n",
    "\n",
    "语法：`len(str)`\n",
    "\n",
    "返回字符串长度"
   ]
  },
  {
   "cell_type": "markdown",
   "metadata": {},
   "source": [
    "### ljust()方法\n",
    "\n",
    "语法：`str.ljust(width[, fillchar])`\n",
    "\n",
    "ljust()方法返回一个原字符串左对齐,并使用空格填充至指定长度的新字符串\n",
    "\n",
    "如果指定的长度小于原字符串的长度则返回原字符串"
   ]
  },
  {
   "cell_type": "code",
   "execution_count": 14,
   "metadata": {},
   "outputs": [
    {
     "name": "stdout",
     "output_type": "stream",
     "text": [
      "Python!!!!\n"
     ]
    }
   ],
   "source": [
    "string19 = \"Python\"\n",
    "\n",
    "print (string19.ljust(10, '!'))"
   ]
  },
  {
   "cell_type": "markdown",
   "metadata": {},
   "source": [
    "### rjust()方法\n",
    "\n",
    "右对齐"
   ]
  },
  {
   "cell_type": "markdown",
   "metadata": {},
   "source": [
    "### lstrip()方法\n",
    "\n",
    "语法：`str.lstrip([chars])`\n",
    "\n",
    "lstrip()方法用于截掉字符串左边的空格或指定字符\n",
    "\n",
    "返回截掉字符串左边的空格或指定字符后生成的新字符串"
   ]
  },
  {
   "cell_type": "code",
   "execution_count": 15,
   "metadata": {},
   "outputs": [
    {
     "name": "stdout",
     "output_type": "stream",
     "text": [
      "Hello World\n",
      "creeper?\n"
     ]
    }
   ],
   "source": [
    "string20 = '88888Hello World'\n",
    "print(string20.lstrip('8'))\n",
    "string21 = '      creeper?'\n",
    "print(string21.lstrip(' '))"
   ]
  },
  {
   "cell_type": "markdown",
   "metadata": {},
   "source": [
    "### rstrip()方法\n",
    "\n",
    "截掉字符串右边的字符"
   ]
  },
  {
   "cell_type": "markdown",
   "metadata": {},
   "source": [
    "### strip()方法\n",
    "\n",
    "同时执行lstrip()与rstrip()"
   ]
  },
  {
   "cell_type": "markdown",
   "metadata": {},
   "source": [
    "### maketrans()方法 与 translate()方法\n",
    "\n",
    "maketrans() 方法用于创建字符映射的转换表，对于接受两个参数的最简单的调用方式，第一个参数是字符串，表示需要转换的字符，第二个参数也是字符串表示转换的目标\n",
    "\n",
    "语法：`str.maketrans(intab, outtab)`\n",
    "\n",
    "translate()方法用于用转换表转换字符串\n",
    "\n",
    "语法：\n",
    "`str.translate(table)\n",
    "bytes.translate(table[, delete])    \n",
    "bytearray.translate(table[, delete])`"
   ]
  },
  {
   "cell_type": "code",
   "execution_count": 16,
   "metadata": {},
   "outputs": [
    {
     "name": "stdout",
     "output_type": "stream",
     "text": [
      "th3s 3s str3ng 2x1mpl2....w4w!!!\n"
     ]
    }
   ],
   "source": [
    "intab = \"aeiou\"\n",
    "outtab = \"12345\"\n",
    "trantab = str.maketrans(intab, outtab)\n",
    "\n",
    "str = \"this is string example....wow!!!\"\n",
    "print (str.translate(trantab))"
   ]
  },
  {
   "cell_type": "markdown",
   "metadata": {},
   "source": [
    "### max()方法 min()方法\n",
    "\n",
    "max()方法返回字符串最大的字母，min()方法返回字符串最小的字母"
   ]
  },
  {
   "cell_type": "markdown",
   "metadata": {},
   "source": [
    "### replace()方法\n",
    "\n",
    "replace() 方法把字符串中的 old（旧字符串） 替换成 new(新字符串)，如果指定第三个参数max，则替换不超过 max 次\n",
    "\n",
    "语法：`str.replace(old, new[, max])`"
   ]
  },
  {
   "cell_type": "markdown",
   "metadata": {},
   "source": [
    "### split()方法\n",
    "\n",
    "split() 通过指定分隔符对字符串进行切片，如果第二个参数 num 有指定值，则分割为 num+1 个子字符串\n",
    "\n",
    "`str.split(str=\"\", num=string.count(str))`\n",
    "\n",
    "返回分割后的字符串列表"
   ]
  },
  {
   "cell_type": "code",
   "execution_count": 17,
   "metadata": {},
   "outputs": [
    {
     "name": "stdout",
     "output_type": "stream",
     "text": [
      "['Hello', 'World']\n"
     ]
    }
   ],
   "source": [
    "string22 = 'Hello World'\n",
    "print(string22.split(' '))"
   ]
  },
  {
   "cell_type": "markdown",
   "metadata": {},
   "source": [
    "### splitlines()方法\n",
    "\n",
    "splitlines()按照行('\\r', '\\r\\n', \\n')分隔，返回一个包含各行作为元素的列表，参数 keepends 默认为 False，不包含换行符，如果为 True，则保留换行符\n",
    "\n",
    "`str.splitlines([keepends])`"
   ]
  }
 ],
 "metadata": {
  "kernelspec": {
   "display_name": "Python 3",
   "language": "python",
   "name": "python3"
  },
  "language_info": {
   "codemirror_mode": {
    "name": "ipython",
    "version": 3
   },
   "file_extension": ".py",
   "mimetype": "text/x-python",
   "name": "python",
   "nbconvert_exporter": "python",
   "pygments_lexer": "ipython3",
   "version": "3.7.4"
  }
 },
 "nbformat": 4,
 "nbformat_minor": 2
}
