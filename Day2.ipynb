{
 "cells": [
  {
   "cell_type": "markdown",
   "metadata": {},
   "source": [
    "今天进行第二天的Python学习活动\n",
    "\n",
    "因为今天上下午满课，所以打卡活动只能放在晚上来进行\n",
    "\n",
    "李笑来老师的资料已经和大家的学习顺序差距比较大了，我还是按照李笑来老师的资料上的顺序来学习"
   ]
  },
  {
   "cell_type": "markdown",
   "metadata": {},
   "source": [
    "# Day2: Task02.条件判断与循环"
   ]
  },
  {
   "cell_type": "markdown",
   "metadata": {},
   "source": [
    "## 列表的操作符："
   ]
  },
  {
   "cell_type": "markdown",
   "metadata": {},
   "source": [
    "在Python中提供了一个“容器”的概念来容纳批量的数据\n",
    "\n",
    "列表就是Python的容器一种\n",
    "\n",
    "列表用方括号表示，例如：\n",
    "\n",
    "[1, 2, 3],  [\"aaa\", \"bbb\", \"ccc\"],  [\"aa\", 1, 2, \"bb\"]\n",
    "\n",
    "列表和字符串一样都是有序容器，所以，它们可用的操作符其实相同：\n",
    "\n",
    "> * 拼接：`+` 和 `' '`（后者是空格）\n",
    "> * 拷贝：`*`\n",
    "> * 逻辑运算：`in`、`not in`；以及，`<`、`<=`、`>`、`>=`、`!=`、`==`\n",
    "\n"
   ]
  },
  {
   "cell_type": "code",
   "execution_count": 3,
   "metadata": {},
   "outputs": [
    {
     "data": {
      "text/plain": [
       "False"
      ]
     },
     "execution_count": 3,
     "metadata": {},
     "output_type": "execute_result"
    },
    {
     "data": {
      "text/plain": [
       "True"
      ]
     },
     "execution_count": 3,
     "metadata": {},
     "output_type": "execute_result"
    },
    {
     "data": {
      "text/plain": [
       "True"
      ]
     },
     "execution_count": 3,
     "metadata": {},
     "output_type": "execute_result"
    }
   ],
   "source": [
    "from IPython.core.interactiveshell import InteractiveShell\n",
    "InteractiveShell.ast_node_interactivity = \"all\"\n",
    "\n",
    "a_list = [1, 2, 3, 4, 5]\n",
    "b_list = [1, 2, 3, 5]\n",
    "c_list = ['ann', 'bob', 'cindy', 'dude', 'eric']\n",
    "a_list > b_list\n",
    "10 not in a_list\n",
    "'ann' in c_list"
   ]
  },
  {
   "cell_type": "markdown",
   "metadata": {},
   "source": [
    "## 流程控制"
   ]
  },
  {
   "cell_type": "markdown",
   "metadata": {},
   "source": [
    "流程主要分为分支与循环两种语句"
   ]
  },
  {
   "cell_type": "markdown",
   "metadata": {},
   "source": [
    "### if语句\n",
    "\n",
    "`if` 语句的最简单构成是这样 —— 注意第 1 行末尾的冒号 `:` 和第 2 行的缩进：\n",
    "\n",
    "```python\n",
    "if expression:\n",
    "    statements\n",
    "```\n",
    "\n",
    "如果表达式 `expression` 返回值为真，执行 `if` 语句块内部的 `statements`，否则，什么都不做，执行 `if` 之后的下一个语句。"
   ]
  },
  {
   "cell_type": "code",
   "execution_count": 4,
   "metadata": {},
   "outputs": [
    {
     "name": "stdout",
     "output_type": "stream",
     "text": [
      "820 is even.\n"
     ]
    }
   ],
   "source": [
    "import random\n",
    "r = random.randrange(1, 1000)\n",
    "\n",
    "if r % 2 == 0:\n",
    "    print(f'{r} is even.')"
   ]
  },
  {
   "cell_type": "code",
   "execution_count": 14,
   "metadata": {},
   "outputs": [
    {
     "name": "stdout",
     "output_type": "stream",
     "text": [
      "604 is even.\n"
     ]
    }
   ],
   "source": [
    "#else可以处理if分支以外的内容\n",
    "import random\n",
    "r = random.randrange(1, 1000)\n",
    "\n",
    "if r % 2 == 0:\n",
    "    print(r, \"is even.\")\n",
    "else:\n",
    "    print(r, \"is odd.\")"
   ]
  },
  {
   "cell_type": "markdown",
   "metadata": {},
   "source": [
    "有时，表达式 `<expression>` 返回的值有多种情况，并且针对不同的情况我们都要做相应的事情，那么可以这么写：\n",
    "\n",
    "```python\n",
    "if expression_1:\n",
    "    statements_for_expression_1_True\n",
    "    \n",
    "elif expression_2:\n",
    "    statements_for_expression_2_True\n",
    "\n",
    "elif expression_3:\n",
    "    statements_for_expression_3_True\n",
    "\n",
    "elif expression_...:\n",
    "    statements_for_expression_..._True\n",
    "```"
   ]
  },
  {
   "cell_type": "markdown",
   "metadata": {},
   "source": [
    "## for 循环"
   ]
  },
  {
   "cell_type": "markdown",
   "metadata": {},
   "source": [
    "在Python中，for语句使用的不是类似于其他语句那样的计数器，取而代之的是`range`这个整数等差数列生成器"
   ]
  },
  {
   "cell_type": "code",
   "execution_count": 15,
   "metadata": {},
   "outputs": [
    {
     "name": "stdout",
     "output_type": "stream",
     "text": [
      "0\n",
      "1\n",
      "2\n",
      "3\n",
      "4\n",
      "5\n",
      "6\n"
     ]
    }
   ],
   "source": [
    "for a in range(7):\n",
    "    print(a)"
   ]
  },
  {
   "cell_type": "markdown",
   "metadata": {},
   "source": [
    "### range函数"
   ]
  },
  {
   "cell_type": "markdown",
   "metadata": {},
   "source": [
    "range(n)函数产生的是从0到n-1的整数数列"
   ]
  },
  {
   "cell_type": "code",
   "execution_count": 16,
   "metadata": {},
   "outputs": [
    {
     "data": {
      "text/plain": [
       "[0, 1, 2, 3, 4, 5, 6]"
      ]
     },
     "execution_count": 16,
     "metadata": {},
     "output_type": "execute_result"
    }
   ],
   "source": [
    "list(range(7))"
   ]
  },
  {
   "cell_type": "markdown",
   "metadata": {},
   "source": [
    "开始的默认值为0，如果需要指定起点，则需要传递两个参数"
   ]
  },
  {
   "cell_type": "code",
   "execution_count": 18,
   "metadata": {},
   "outputs": [
    {
     "data": {
      "text/plain": [
       "[1, 2, 3, 4, 5, 6]"
      ]
     },
     "execution_count": 18,
     "metadata": {},
     "output_type": "execute_result"
    }
   ],
   "source": [
    "list(range(1,7))\n",
    "#还是在第二个参数减一是停止"
   ]
  },
  {
   "cell_type": "markdown",
   "metadata": {},
   "source": [
    "第三个参数可选，`step`步长，默认值为一，可以是负数"
   ]
  },
  {
   "cell_type": "code",
   "execution_count": 21,
   "metadata": {},
   "outputs": [
    {
     "name": "stdout",
     "output_type": "stream",
     "text": [
      "[1, 3, 5, 7, 9]\n",
      "[0, -1, -2, -3, -4, -5, -6, -7, -8, -9]\n"
     ]
    }
   ],
   "source": [
    "print(list(range(1,10,2)))\n",
    "print(list(range(0, -10, -1)))"
   ]
  },
  {
   "cell_type": "markdown",
   "metadata": {},
   "source": [
    "在循环时，`continue`和`break`的使用方法仍和传统方法一致\n",
    "\n",
    "神奇的是，Python在for语句中还可以使用else，作为在for语句没有发生break时执行的语句"
   ]
  },
  {
   "cell_type": "code",
   "execution_count": 23,
   "metadata": {},
   "outputs": [
    {
     "name": "stdout",
     "output_type": "stream",
     "text": [
      "2\n",
      "3\n",
      "5\n",
      "7\n",
      "11\n",
      "13\n",
      "17\n",
      "19\n",
      "23\n",
      "29\n",
      "31\n",
      "37\n",
      "41\n",
      "43\n",
      "47\n"
     ]
    }
   ],
   "source": [
    "for n in range(2, 50):\n",
    "    if n == 2:\n",
    "        print(n)\n",
    "        continue\n",
    "    for i in range(2, n):\n",
    "        if (n % i) == 0:\n",
    "            break\n",
    "    else:               # 下一行的 print(n) 事实上属于语句块 for i in range(2, n):\n",
    "        print(n)        # 整个循环结束，都没有发生 break 的情况下，才执行一次 print(n)"
   ]
  },
  {
   "cell_type": "markdown",
   "metadata": {},
   "source": [
    "`pass`语句表示什么也不做\n",
    "```Python\n",
    "for i in range(1, 100):\n",
    "    pass\n",
    "    if i % 2 == 0:\n",
    "        pass\n",
    "```\n",
    "或者\n",
    "```Python\n",
    "def function():\n",
    "    pass\n",
    "```"
   ]
  },
  {
   "cell_type": "markdown",
   "metadata": {},
   "source": [
    "## while\n",
    "\n",
    "`while` 循环的格式如下：\n",
    "\n",
    "```python\n",
    "while expression:\n",
    "    statements\n",
    "```\n",
    "\n",
    "`for` 和 `while` 的区别在哪里？什么时候应该用哪个？\n",
    "\n",
    "`for` 更适合处理序列类型的数据（Sequence Type）的迭代，比如处理字符串中的每一个字符，比如把 `range()` 返回的数列当作某种序列类型的索引。\n",
    "\n",
    "`while` 更为灵活，因为它后面只需要接上一个逻辑表达式即可。"
   ]
  },
  {
   "cell_type": "markdown",
   "metadata": {},
   "source": [
    "## 练习：\n",
    "\n",
    "以下是一个让用户和程序玩掷骰子赌大小的程序。规则如下：\n",
    "\n",
    ">* 每次计算机随机生成一个 `2... 12` 之间的整数，用来模拟机器人投两个骰子的情况；\n",
    "* 机器人和用户的起始资金都是 10 个硬币\n",
    "* 要求用户猜大小：\n",
    "    * 用户输入 `b` 代表 “大”；\n",
    "    * 用户输入 `s` 代表 “小”；\n",
    "    * 用户输入 `q` 代表 “退出”；\n",
    "* 用户的输入和随机产生的数字比较有以下几种情况：\n",
    "    * 随机数小于 `7`，用户猜小，用户赢；\n",
    "    * 随机数小于 `7`，用户猜大，用户输；\n",
    "    * 随机数等于 `7`，用户无论猜大还是猜小，结局平，不输不赢；\n",
    "    * 随机数大于 `7`，用户猜小，用户输；\n",
    "    * 随机数大于 `7`，用户猜大，用户赢；\n",
    "* 游戏结束条件：\n",
    "    * 机器人和用户，若任意一方硬币数量为 `0`，则游戏结束；\n",
    "    * 用户输入了 `q` 主动终止游戏。\n"
   ]
  },
  {
   "cell_type": "code",
   "execution_count": 26,
   "metadata": {},
   "outputs": [
    {
     "name": "stdout",
     "output_type": "stream",
     "text": [
      "What is your bet?q\n"
     ]
    }
   ],
   "source": [
    "from random import randrange\n",
    "\n",
    "def bet(dice, wager): #第一个是骰子点数，第二个是用户输入\n",
    "    if dice<7:\n",
    "        if wager == 's':\n",
    "            print(\"WIN\")\n",
    "        else:\n",
    "            print(\"LOST\")\n",
    "    elif dice == 7:\n",
    "        print(\"DRAW\")\n",
    "    else:\n",
    "        if wager == 'b':\n",
    "            print(\"WIN\")\n",
    "        else:\n",
    "            print(\"LOST\")\n",
    "            \n",
    "while True:\n",
    "    dice = randrange(2, 12)\n",
    "    wager = input(\"What is your bet?\")\n",
    "    if wager == 'q':\n",
    "        break\n",
    "    else:\n",
    "        bet(dice, wager)"
   ]
  }
 ],
 "metadata": {
  "kernelspec": {
   "display_name": "Python 3",
   "language": "python",
   "name": "python3"
  },
  "language_info": {
   "codemirror_mode": {
    "name": "ipython",
    "version": 3
   },
   "file_extension": ".py",
   "mimetype": "text/x-python",
   "name": "python",
   "nbconvert_exporter": "python",
   "pygments_lexer": "ipython3",
   "version": "3.7.4"
  }
 },
 "nbformat": 4,
 "nbformat_minor": 2
}
