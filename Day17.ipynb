{
 "cells": [
  {
   "cell_type": "markdown",
   "metadata": {},
   "source": [
    "# Day：17模块"
   ]
  },
  {
   "cell_type": "markdown",
   "metadata": {},
   "source": [
    "在前面的几个章节中我们脚本上是用 python 解释器来编程，如果你从 Python 解释器退出再进入，那么你定义的所有的方法和变量就都消失了。\n",
    "\n",
    "为此 Python 提供了一个办法，把这些定义存放在文件中，为一些脚本或者交互式的解释器实例使用，这个文件被称为模块\n",
    "\n",
    "模块是一个包含所有你定义的函数和变量的文件，其后缀名是.py。模块可以被别的程序引入，以使用该模块中的函数等功能。这也是使用 python 标准库的方法"
   ]
  },
  {
   "cell_type": "code",
   "execution_count": 1,
   "metadata": {
    "scrolled": true
   },
   "outputs": [
    {
     "name": "stdout",
     "output_type": "stream",
     "text": [
      "命令行参数如下:\n",
      "D:\\Anaconda\\lib\\site-packages\\ipykernel_launcher.py\n",
      "-f\n",
      "C:\\Users\\李昂\\AppData\\Roaming\\jupyter\\runtime\\kernel-6db10a13-6a6f-4467-bf10-61ee22871f3c.json\n",
      "\n",
      "\n",
      "Python 路径为： ['C:\\\\Users\\\\李昂\\\\Documents\\\\GitHub\\\\PythonBasisPractice\\\\PythonBasisPractice', 'D:\\\\Anaconda\\\\python37.zip', 'D:\\\\Anaconda\\\\DLLs', 'D:\\\\Anaconda\\\\lib', 'D:\\\\Anaconda', '', 'D:\\\\Anaconda\\\\lib\\\\site-packages', 'D:\\\\Anaconda\\\\lib\\\\site-packages\\\\win32', 'D:\\\\Anaconda\\\\lib\\\\site-packages\\\\win32\\\\lib', 'D:\\\\Anaconda\\\\lib\\\\site-packages\\\\Pythonwin', 'D:\\\\Anaconda\\\\lib\\\\site-packages\\\\IPython\\\\extensions', 'C:\\\\Users\\\\李昂\\\\.ipython'] \n",
      "\n"
     ]
    }
   ],
   "source": [
    "import sys\n",
    " \n",
    "print('命令行参数如下:')\n",
    "for i in sys.argv:\n",
    "    print(i)\n",
    "\n",
    "print('\\n\\nPython 路径为：', sys.path, '\\n')"
   ]
  },
  {
   "cell_type": "markdown",
   "metadata": {},
   "source": [
    ">1、import sys 引入 python 标准库中的 sys.py 模块；这是引入某一模块的方法。\n",
    ">\n",
    ">2、sys.argv 是一个包含命令行参数的列表。\n",
    ">\n",
    ">3、sys.path 包含了一个 Python 解释器自动查找所需模块的路径的列表。"
   ]
  },
  {
   "cell_type": "markdown",
   "metadata": {},
   "source": [
    "## import语句\n",
    "\n",
    "想要使用Python的源文件，则需要在另一个源文件里使用import语句\n",
    "\n",
    "搜索路径是一个解释器会先进行搜索的所有目录的列表。如想要导入模块，则需要把import命令放在脚本的顶端\n",
    "\n",
    "一个模块只会被导入一次，不管你执行了多少次import。这样可以防止导入模块被一遍又一遍地执行。\n",
    "\n",
    "当我们使用import语句的时候，Python解释器是怎样找到对应的文件的呢？\n",
    "\n",
    "这就涉及到Python的搜索路径，搜索路径是由一系列目录名组成的，Python解释器就依次从这些目录中去寻找所引入的模块。\n",
    "\n",
    "这看起来很像环境变量，事实上，也可以通过定义环境变量的方式来确定搜索路径。\n",
    "\n",
    "搜索路径是在Python编译或安装的时候确定的，安装新的库应该也会修改。搜索路径被存储在sys模块中的path变量"
   ]
  },
  {
   "cell_type": "markdown",
   "metadata": {},
   "source": [
    "## from...import语句\n",
    "\n",
    "Python 的 from 语句让你从模块中导入一个指定的部分到当前命名空间中，语法如下\n",
    "\n",
    "`from modname import name1[, name2[, ... nameN]]`"
   ]
  },
  {
   "cell_type": "markdown",
   "metadata": {},
   "source": [
    "## \\__name__属性\n",
    "\n",
    "一个模块被另一个程序第一次引入时，其主程序将运行。如果我们想在模块被引入时，模块中的某一程序块不执行，我们可以用__name__属性来使该程序块仅在该模块自身运行时执行\n",
    "\n",
    "```Python\n",
    "if __name__ == '__main__':\n",
    "   print('程序自身在运行')\n",
    "else:\n",
    "   print('我来自另一模块')\n",
    "   \n",
    "```"
   ]
  },
  {
   "cell_type": "markdown",
   "metadata": {},
   "source": [
    "## dir()函数\n",
    "\n",
    "内置的函数 dir() 可以找到模块内定义的所有名称。以一个字符串列表的形式返回\n",
    "\n",
    "如果没有给定参数，那么 dir() 函数会罗列出当前定义的所有名称"
   ]
  },
  {
   "cell_type": "markdown",
   "metadata": {},
   "source": [
    "## 标准模块\n",
    "\n",
    "Python 本身带着一些标准的模块库\n",
    "\n",
    "有些模块直接被构建在解析器里，这些虽然不是一些语言内置的功能，但是他却能很高效的使用，甚至是系统级调用也没问题"
   ]
  },
  {
   "cell_type": "markdown",
   "metadata": {},
   "source": [
    "## 包\n",
    "\n",
    "包是一种管理 Python 模块命名空间的形式，采用\"点模块名称\"。\n",
    "\n",
    "比如一个模块的名称是 A.B， 那么他表示一个包 A中的子模块 B 。\n",
    "\n",
    "就好像使用模块的时候，你不用担心不同模块之间的全局变量相互影响一样，采用点模块名称这种形式也不用担心不同库之间的模块重名的情况。\n",
    "\n",
    "这样不同的作者都可以提供 NumPy 模块，或者是 Python 图形库。\n",
    "\n",
    "不妨假设你想设计一套统一处理声音文件和数据的模块（或者称之为一个\"包\"）\n",
    "\n",
    "在导入一个包的时候，Python 会根据 sys.path 中的目录来寻找这个包中包含的子目录。\n",
    "\n",
    "目录只有包含一个叫做 \\_\\_init\\_\\_.py 的文件才会被认作是一个包，主要是为了避免一些滥俗的名字（比如叫做 string）不小心的影响搜索路径中的有效模块\n",
    "\n",
    "最简单的情况，放一个空的 :file:\\_\\_init\\_\\_.py就可以了。当然这个文件中也可以包含一些初始化代码或者为（将在后面介绍的） \\_\\_all\\_\\_变量赋值。\n",
    "\n",
    "用户可以每次只导入一个包里面的特定模块\n",
    "\n",
    "导入语句遵循如下规则：如果包定义文件 \\_\\_init\\_\\_.py 存在一个叫做 \\_\\_all\\_\\_ 的列表变量，那么在使用 from package import * 的时候就把这个列表中的所有名字作为包内容导入。\n",
    "\n",
    "作为包的作者，可别忘了在更新包之后保证 \\_\\_all\\_\\_ 也更新了啊"
   ]
  }
 ],
 "metadata": {
  "kernelspec": {
   "display_name": "Python 3",
   "language": "python",
   "name": "python3"
  },
  "language_info": {
   "codemirror_mode": {
    "name": "ipython",
    "version": 3
   },
   "file_extension": ".py",
   "mimetype": "text/x-python",
   "name": "python",
   "nbconvert_exporter": "python",
   "pygments_lexer": "ipython3",
   "version": "3.7.4"
  }
 },
 "nbformat": 4,
 "nbformat_minor": 2
}
