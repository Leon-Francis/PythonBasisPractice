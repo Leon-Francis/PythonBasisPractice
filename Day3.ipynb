{
 "cells": [
  {
   "cell_type": "markdown",
   "metadata": {},
   "source": [
    "今天是第三天的Python学习\n",
    "\n",
    "因为李笑来老师的教程与学习进度实在是有很大的差别，并且讲解内容也不是很详细，阅读起来正如之前学长所说，阅读起来不像是在学习，更像是在为梦想充值，所以换了学习材料，从 https://www.runoob.com/ 上按照正常的打卡顺序学习Python"
   ]
  },
  {
   "cell_type": "markdown",
   "metadata": {},
   "source": [
    "Day3: 列表\n",
    "============="
   ]
  },
  {
   "cell_type": "markdown",
   "metadata": {},
   "source": [
    "列表是Python中使用最频繁的数据类型\n",
    "\n",
    "列表中的元素类型可以不相同，支持数字，字符串等等，列表中也可以包含列表\n",
    "\n",
    "列表写在方括号`[]`中，用`,`隔开数据\n",
    "\n",
    "和字符串一样，列表也可以被截取，截取之后返回一个新的列表\n",
    "\n",
    "下面是列表的一些基础的截取操作："
   ]
  },
  {
   "cell_type": "code",
   "execution_count": 14,
   "metadata": {},
   "outputs": [
    {
     "name": "stdout",
     "output_type": "stream",
     "text": [
      "[1, 'a', 'Hello', 5]\n",
      "a\n",
      "[1, 2, 3, 4, 5, 6]\n",
      "[1, 2, 3]\n",
      "[4, 5, 6]\n",
      "[1, 2, 3, 4]\n",
      "[1, 3, 5]\n",
      "[1, 2, 3, 4, 5, 6, 1, 2, 3, 4, 5, 6]\n",
      "[1, 'a', 'Hello', 5, 1, 2, 3, 4, 5, 6]\n"
     ]
    }
   ],
   "source": [
    "list = [1, 'a', \"Hello\", 5]\n",
    "numlist = [1, 2, 3, 4, 5, 6]\n",
    "\n",
    "print(list)\n",
    "print(list[1])  # 同样用方括号表示索引与截取\n",
    "print(numlist[0:6]) #在索引中同样是左闭右开，并且索引是从0开始\n",
    "print(numlist[:3])\n",
    "print(numlist[3:])\n",
    "print(numlist[:-2]) #反向的索引从-1开始，并且也是左闭右开\n",
    "print(numlist[0:6:2]) #list也支持间隔截取\n",
    "print(numlist * 2) #输出两次列表\n",
    "print(list + numlist) #输出列表拼接"
   ]
  },
  {
   "cell_type": "markdown",
   "metadata": {},
   "source": [
    "list中的元素是可以随时改变的"
   ]
  },
  {
   "cell_type": "code",
   "execution_count": 13,
   "metadata": {},
   "outputs": [
    {
     "name": "stdout",
     "output_type": "stream",
     "text": [
      "[1, 10, 3, 4, 5]\n",
      "[1, 10, 0, 0, 0]\n",
      "[1, 10]\n"
     ]
    }
   ],
   "source": [
    "list = [1, 2, 3, 4, 5]\n",
    "list[1] = 10\n",
    "print(list)\n",
    "list[2:5] = [0, 0, 0]\n",
    "print(list)\n",
    "list[2:5] = []\n",
    "print(list)"
   ]
  },
  {
   "cell_type": "markdown",
   "metadata": {},
   "source": [
    "如果要删除单个元素，则不能用`=[]`来删除，可以用`del`或者之后要学的`remove`或者`pop`来删除"
   ]
  },
  {
   "cell_type": "code",
   "execution_count": 21,
   "metadata": {},
   "outputs": [
    {
     "name": "stdout",
     "output_type": "stream",
     "text": [
      "[0, 1, 3, 4]\n"
     ]
    }
   ],
   "source": [
    "list = [0, 1, 2, 3, 4]\n",
    "del list[2]\n",
    "print(list)"
   ]
  },
  {
   "cell_type": "markdown",
   "metadata": {},
   "source": [
    "此外，Python也支持嵌套索引"
   ]
  },
  {
   "cell_type": "code",
   "execution_count": 22,
   "metadata": {},
   "outputs": [
    {
     "name": "stdout",
     "output_type": "stream",
     "text": [
      "1\n"
     ]
    }
   ],
   "source": [
    "list = [[0, 1, 2], [3, 4], 5]\n",
    "print(list[0][1])"
   ]
  },
  {
   "cell_type": "code",
   "execution_count": 16,
   "metadata": {},
   "outputs": [
    {
     "name": "stdout",
     "output_type": "stream",
     "text": [
      "Python like I\n"
     ]
    }
   ],
   "source": [
    "#将字符转反转的实例\n",
    "def reverseWords(input):\n",
    "     \n",
    "    # 通过空格将字符串分隔符，把各个单词分隔为列表\n",
    "    inputWords = input.split(\" \")\n",
    " \n",
    "    # 翻转字符串\n",
    "    # 假设列表 list = [1,2,3,4],  \n",
    "    # list[0]=1, list[1]=2 ，而 -1 表示最后一个元素 list[-1]=4 ( 与 list[3]=4 一样)\n",
    "    # inputWords[-1::-1] 有三个参数\n",
    "    # 第一个参数 -1 表示最后一个元素\n",
    "    # 第二个参数为空，表示移动到列表末尾\n",
    "    # 第三个参数为步长，-1 表示逆向\n",
    "    inputWords=inputWords[-1::-1]\n",
    " \n",
    "    # 重新组合字符串\n",
    "    output = ' '.join(inputWords)\n",
    "     \n",
    "    return output\n",
    " \n",
    "if __name__ == \"__main__\":\n",
    "    input = 'I like Python'\n",
    "    rw = reverseWords(input)\n",
    "    print(rw)"
   ]
  },
  {
   "cell_type": "markdown",
   "metadata": {},
   "source": [
    "在上述实例中，关键的语法是\n",
    "\n",
    ">`inputWord = inputWord[-1::-1]`\n",
    "\n",
    "要学习使用这种索引模式"
   ]
  },
  {
   "cell_type": "markdown",
   "metadata": {},
   "source": [
    "## 列表的函数"
   ]
  },
  {
   "cell_type": "markdown",
   "metadata": {},
   "source": [
    "### len函数\n",
    "\n",
    "len函数返回列表元素个数\n",
    "\n",
    "语法为`Len(list)`"
   ]
  },
  {
   "cell_type": "code",
   "execution_count": 2,
   "metadata": {},
   "outputs": [
    {
     "name": "stdout",
     "output_type": "stream",
     "text": [
      "3\n",
      "[0, 1, 2, 3, 4]\n",
      "5\n"
     ]
    }
   ],
   "source": [
    "list1 = ['Python', 'java', 'c++']\n",
    "print (len(list1))\n",
    "list2 = list(range(5)) # 创建一个 0-4 的列表\n",
    "print(list2)\n",
    "print (len(list2))"
   ]
  },
  {
   "cell_type": "markdown",
   "metadata": {},
   "source": [
    "### max函数\n",
    "\n",
    "max函数返回列表中的最大值"
   ]
  },
  {
   "cell_type": "code",
   "execution_count": 3,
   "metadata": {},
   "outputs": [
    {
     "name": "stdout",
     "output_type": "stream",
     "text": [
      "list1 最大元素值 :  java\n",
      "list2 最大元素值 :  700\n"
     ]
    }
   ],
   "source": [
    "list1, list2 = ['Python', 'java', 'c++'], [456, 700, 200]\n",
    "\n",
    "print (\"list1 最大元素值 : \", max(list1))\n",
    "print (\"list2 最大元素值 : \", max(list2))"
   ]
  },
  {
   "cell_type": "markdown",
   "metadata": {},
   "source": [
    "### min函数\n",
    "\n",
    "min函数与max函数同理"
   ]
  },
  {
   "cell_type": "markdown",
   "metadata": {},
   "source": [
    "### list函数\n",
    "\n",
    "list函数用于将元组或字符串转换为列表\n",
    "\n",
    "注：元组与列表是非常类似的，区别在于元组的元素值不能修改，元组是放在括号中，列表是放于方括号中。"
   ]
  },
  {
   "cell_type": "code",
   "execution_count": 4,
   "metadata": {},
   "outputs": [
    {
     "name": "stdout",
     "output_type": "stream",
     "text": [
      "列表元素 :  [123, 'Python', 'java', 'c++']\n",
      "列表元素 :  ['H', 'e', 'l', 'l', 'o', ' ', 'W', 'o', 'r', 'l', 'd']\n"
     ]
    }
   ],
   "source": [
    "tuple1 = (123, 'Python', 'java', 'c++')\n",
    "list1 = list(tuple1)\n",
    "print (\"列表元素 : \", list1)\n",
    "\n",
    "str=\"Hello World\"\n",
    "list2=list(str)\n",
    "print (\"列表元素 : \", list2)"
   ]
  },
  {
   "cell_type": "markdown",
   "metadata": {},
   "source": [
    "## 列表的方法"
   ]
  },
  {
   "cell_type": "markdown",
   "metadata": {},
   "source": [
    "### append()方法\n",
    "\n",
    "append() 方法用于在列表末尾添加新的对象\n",
    "\n",
    "语法：`list.append(obj)`\n",
    "\n",
    "该方法无返回值，但是会修改原来的列表"
   ]
  },
  {
   "cell_type": "code",
   "execution_count": 5,
   "metadata": {},
   "outputs": [
    {
     "name": "stdout",
     "output_type": "stream",
     "text": [
      "['Python', 'java', 'c++']\n"
     ]
    }
   ],
   "source": [
    "list3 = [\"Python\", \"java\"]\n",
    "list3.append(\"c++\")\n",
    "print(list3)"
   ]
  },
  {
   "cell_type": "markdown",
   "metadata": {},
   "source": [
    "值得注意的一点是，append方法使用的是浅复制\n",
    "\n",
    "及只是把原来的对象连接到新的列表，而不是把值传递过去\n",
    "\n",
    "这就意味着如果传递的是一个对象，如果修改对象的值，那么列表的值也会随之改变,而如果不是对象则没有问题"
   ]
  },
  {
   "cell_type": "code",
   "execution_count": 8,
   "metadata": {},
   "outputs": [
    {
     "name": "stdout",
     "output_type": "stream",
     "text": [
      "[0, 0, 0, [0]]\n",
      "[0, 0, 0, [1]]\n"
     ]
    }
   ],
   "source": [
    "a = [0]\n",
    "list4 = [0, 0, 0]\n",
    "list4.append(a)\n",
    "print(list4)\n",
    "a[0] = 1\n",
    "print(list4)"
   ]
  },
  {
   "cell_type": "markdown",
   "metadata": {},
   "source": [
    "### count()方法"
   ]
  },
  {
   "cell_type": "markdown",
   "metadata": {},
   "source": [
    "count() 方法用于统计某个元素在列表中出现的次数\n",
    "\n",
    "语法： `list.count(obj)`\n",
    "\n",
    "返回元素在列表中出现的次数"
   ]
  },
  {
   "cell_type": "code",
   "execution_count": 9,
   "metadata": {},
   "outputs": [
    {
     "name": "stdout",
     "output_type": "stream",
     "text": [
      "3\n"
     ]
    }
   ],
   "source": [
    "list5 = [\"Python\", \"java\", \"Python\", \"Python\"]\n",
    "print(list5.count(\"Python\"))"
   ]
  },
  {
   "cell_type": "markdown",
   "metadata": {},
   "source": [
    "### extend()方法"
   ]
  },
  {
   "cell_type": "markdown",
   "metadata": {},
   "source": [
    "extend() 函数用于在列表末尾一次性追加另一个序列中的多个值（用新列表扩展原来的列表）\n",
    "\n",
    "语法：`list.extend(seq)`\n",
    "\n",
    "seq可以是列表、元组、集合、字典，若为字典,则仅会将键(key)作为元素依次添加至原列表的末尾\n",
    "\n",
    "没有返回值，直接修改原列表"
   ]
  },
  {
   "cell_type": "code",
   "execution_count": 11,
   "metadata": {},
   "outputs": [
    {
     "name": "stdout",
     "output_type": "stream",
     "text": [
      "['aaa', 'bbb', 'ccc', 'ddd']\n"
     ]
    }
   ],
   "source": [
    "list6 = [\"aaa\", \"bbb\"]\n",
    "list7 = [\"ccc\", \"ddd\"]\n",
    "list6.extend(list7)\n",
    "print(list6)"
   ]
  },
  {
   "cell_type": "markdown",
   "metadata": {},
   "source": [
    "### index()方法"
   ]
  },
  {
   "cell_type": "markdown",
   "metadata": {},
   "source": [
    "index() 函数用于从列表中找出某个值第一个匹配项的索引位置\n",
    "\n",
    "语法：`list.index(x, start, end)`\n",
    "\n",
    "x为查找的对象，start可选，为查找的起始位置，end可选，为查找的结束位置\n",
    "\n",
    "返回查找对象的索引位置，如果没找到对象则抛出异常"
   ]
  },
  {
   "cell_type": "code",
   "execution_count": 2,
   "metadata": {},
   "outputs": [
    {
     "name": "stdout",
     "output_type": "stream",
     "text": [
      "1\n",
      "0\n",
      "7\n",
      "6\n"
     ]
    }
   ],
   "source": [
    "list7 = [1, 2, 3, 4, 5, 4 ,3, 2, 1]\n",
    "list8 = [\"Python\", \"java\", \"c++\"]\n",
    "print(list7.index(2))\n",
    "print(list8.index(\"Python\"))\n",
    "print(list7.index(2, 2))\n",
    "print(list7.index(3, 3, -2))"
   ]
  },
  {
   "cell_type": "markdown",
   "metadata": {},
   "source": [
    "### insert()方法"
   ]
  },
  {
   "cell_type": "markdown",
   "metadata": {},
   "source": [
    "insert() 方法用于将指定对象插入列表的指定位置\n",
    "\n",
    "语法：`list.insert(index, obj)`\n",
    "\n",
    "index为obj要插入位置的索引，该位置以及之后的元素向后移动一个位置\n",
    "\n",
    "没有返回值，直接修改列表"
   ]
  },
  {
   "cell_type": "code",
   "execution_count": 3,
   "metadata": {},
   "outputs": [
    {
     "name": "stdout",
     "output_type": "stream",
     "text": [
      "['Python', 'PHP', 'java', 'c++']\n",
      "['Python', 'PHP', 1, 'java', 'c++']\n"
     ]
    }
   ],
   "source": [
    "list9 = [\"Python\", \"java\", \"c++\"]\n",
    "list9.insert(1, \"PHP\")\n",
    "print(list9)\n",
    "list9.insert(2, 1)\n",
    "print(list9)"
   ]
  },
  {
   "cell_type": "markdown",
   "metadata": {},
   "source": [
    "insert和append一样只是把原来的对象连接到新的列表，而不是把值传递过去"
   ]
  },
  {
   "cell_type": "markdown",
   "metadata": {},
   "source": [
    "### pop()方法"
   ]
  },
  {
   "cell_type": "markdown",
   "metadata": {},
   "source": [
    "pop()方法用于移除列表中的一个元素（默认最后一个元素），并且返回该元素的值\n",
    "\n",
    "语法：`list.pop(index=-1)`\n",
    "\n",
    "index -- 可选参数，要移除列表元素的索引值，不能超过列表总长度，默认为 index=-1，删除最后一个列表值"
   ]
  },
  {
   "cell_type": "code",
   "execution_count": 4,
   "metadata": {},
   "outputs": [
    {
     "name": "stdout",
     "output_type": "stream",
     "text": [
      "['Python', 'c++']\n",
      "Python\n",
      "['c++']\n"
     ]
    }
   ],
   "source": [
    "list10 = [\"Python\", \"c++\", \"java\"]\n",
    "list10.pop()\n",
    "print(list10)\n",
    "print(list10.pop(0))\n",
    "print(list10)"
   ]
  },
  {
   "cell_type": "markdown",
   "metadata": {},
   "source": [
    "### remove()方法"
   ]
  },
  {
   "cell_type": "markdown",
   "metadata": {},
   "source": [
    "remove()方法用于移除列表中某个值的第一个匹配项\n",
    "\n",
    "语法：`list.remove(obj)`\n",
    "\n",
    "没有返回值，直接修改列表"
   ]
  },
  {
   "cell_type": "code",
   "execution_count": 6,
   "metadata": {},
   "outputs": [
    {
     "name": "stdout",
     "output_type": "stream",
     "text": [
      "['c++', 'Python', 'java']\n"
     ]
    }
   ],
   "source": [
    "list11 = [\"Python\", \"c++\", \"Python\", \"java\"]\n",
    "list11.remove(\"Python\")\n",
    "print(list11)"
   ]
  },
  {
   "cell_type": "markdown",
   "metadata": {},
   "source": [
    "### reverse()方法"
   ]
  },
  {
   "cell_type": "markdown",
   "metadata": {},
   "source": [
    "reverse()方法用于反向列表中元素\n",
    "\n",
    "语法：`list.reverse()`\n",
    "\n",
    "没有参数，没有返回值，直接修改列表"
   ]
  },
  {
   "cell_type": "code",
   "execution_count": 7,
   "metadata": {},
   "outputs": [
    {
     "name": "stdout",
     "output_type": "stream",
     "text": [
      "[4, 3, 2, 1]\n"
     ]
    }
   ],
   "source": [
    "list12 = [1, 2, 3, 4]\n",
    "list12.reverse()\n",
    "print(list12)"
   ]
  },
  {
   "cell_type": "markdown",
   "metadata": {},
   "source": [
    "### sort()方法"
   ]
  },
  {
   "cell_type": "markdown",
   "metadata": {},
   "source": [
    "sort()方法用于对原列表进行排序，如果指定参数，则使用比较函数指定的比较函数\n",
    "\n",
    "语法：`list.sort( key=None, reverse=False)`\n",
    "\n",
    "#### 参数：\n",
    "\n",
    "key -- 主要是用来进行比较的元素，只有一个参数，具体的函数的参数就是取自于可迭代对象中，指定可迭代对象中的一个元素来进行排序\n",
    "\n",
    "reverse -- 排序规则，reverse = True 降序， reverse = False 升序（默认）"
   ]
  },
  {
   "cell_type": "code",
   "execution_count": 9,
   "metadata": {},
   "outputs": [
    {
     "name": "stdout",
     "output_type": "stream",
     "text": [
      "[1, 2, 4, 5, 5, 7, 7, 9]\n",
      "降序： [9, 7, 7, 5, 5, 4, 2, 1]\n"
     ]
    }
   ],
   "source": [
    "list13 = [1, 4 ,7, 5, 9, 5, 7, 2]\n",
    "list13.sort()\n",
    "print(list13)\n",
    "list13.sort(reverse = True)\n",
    "print(\"降序：\", list13)"
   ]
  },
  {
   "cell_type": "code",
   "execution_count": 10,
   "metadata": {},
   "outputs": [
    {
     "name": "stdout",
     "output_type": "stream",
     "text": [
      "排序列表： [(4, 1), (2, 2), (1, 3), (3, 4)]\n"
     ]
    }
   ],
   "source": [
    "# 获取列表的第二个元素,返回值就是一个可以比较的元素\n",
    "def takeSecond(elem):\n",
    "    return elem[1]\n",
    " \n",
    "# 列表\n",
    "random = [(2, 2), (3, 4), (4, 1), (1, 3)]\n",
    " \n",
    "# 指定第二个元素排序\n",
    "random.sort(key=takeSecond)\n",
    " \n",
    "# 输出类别\n",
    "print ('排序列表：', random)"
   ]
  },
  {
   "cell_type": "markdown",
   "metadata": {},
   "source": [
    "### clear()方法"
   ]
  },
  {
   "cell_type": "markdown",
   "metadata": {},
   "source": [
    "顾名思义，就是清空列表"
   ]
  },
  {
   "cell_type": "code",
   "execution_count": 11,
   "metadata": {},
   "outputs": [
    {
     "name": "stdout",
     "output_type": "stream",
     "text": [
      "[]\n"
     ]
    }
   ],
   "source": [
    "list14 = [1, 34, 6, 5]\n",
    "list14.clear()\n",
    "print(list14)"
   ]
  },
  {
   "cell_type": "markdown",
   "metadata": {},
   "source": [
    "### copy()方法"
   ]
  },
  {
   "cell_type": "markdown",
   "metadata": {},
   "source": [
    "顾名思义，复制列表，返回一个复制的列表"
   ]
  },
  {
   "cell_type": "code",
   "execution_count": 13,
   "metadata": {},
   "outputs": [
    {
     "name": "stdout",
     "output_type": "stream",
     "text": [
      "[1, 2, 3, 4, 5]\n",
      "[1, 2, 3, 4, 5]\n",
      "[1, 2, 3, 4, 5]\n",
      "[1, 2, 22, 4, 5]\n"
     ]
    }
   ],
   "source": [
    "list15 = [1, 2, 3, 4, 5]\n",
    "list16 = list15.copy()\n",
    "list17 = list15\n",
    "print(list16)\n",
    "print(list17)\n",
    "list15[2] = 22\n",
    "print(list16)\n",
    "print(list17)"
   ]
  },
  {
   "cell_type": "markdown",
   "metadata": {},
   "source": [
    "由此说明，copy()方法是创建了一个新的对象,而=复制只是创造了一个引用"
   ]
  },
  {
   "cell_type": "markdown",
   "metadata": {},
   "source": [
    "李昂\n",
    "\n",
    "2019/10/22"
   ]
  }
 ],
 "metadata": {
  "kernelspec": {
   "display_name": "Python 3",
   "language": "python",
   "name": "python3"
  },
  "language_info": {
   "codemirror_mode": {
    "name": "ipython",
    "version": 3
   },
   "file_extension": ".py",
   "mimetype": "text/x-python",
   "name": "python",
   "nbconvert_exporter": "python",
   "pygments_lexer": "ipython3",
   "version": "3.7.4"
  }
 },
 "nbformat": 4,
 "nbformat_minor": 2
}
